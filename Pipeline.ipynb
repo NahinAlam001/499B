{
  "cells": [
    {
      "cell_type": "markdown",
      "metadata": {
        "id": "view-in-github",
        "colab_type": "text"
      },
      "source": [
        "<a href=\"https://colab.research.google.com/github/NahinAlam001/499B/blob/SAM/Pipeline.ipynb\" target=\"_parent\"><img src=\"https://colab.research.google.com/assets/colab-badge.svg\" alt=\"Open In Colab\"/></a>"
      ]
    },
    {
      "cell_type": "code",
      "source": [
        "import subprocess\n",
        "\n",
        "def install(package):\n",
        "    subprocess.check_call([\"pip\", \"install\", package])\n",
        "\n",
        "def main():\n",
        "    # Install standard packages\n",
        "    packages = [\n",
        "        \"monai\",\n",
        "        \"datasets\",\n",
        "        \"scikit-learn\",\n",
        "        \"fvcore\",\n",
        "    ]\n",
        "\n",
        "    for package in packages:\n",
        "        install(package)\n",
        "\n",
        "    # Install packages from GitHub\n",
        "    git_packages = [\n",
        "        \"git+https://github.com/facebookresearch/segment-anything.git\",\n",
        "        \"git+https://github.com/huggingface/transformers.git\"\n",
        "    ]\n",
        "\n",
        "    for git_package in git_packages:\n",
        "        install(git_package)\n",
        "\n",
        "    print(\"All dependencies have been installed successfully!\")\n",
        "\n",
        "if __name__ == \"__main__\":\n",
        "    main()"
      ],
      "metadata": {
        "id": "DX0KTPc7PuGL"
      },
      "execution_count": null,
      "outputs": []
    },
    {
      "cell_type": "code",
      "source": [
        "import os\n",
        "import zipfile\n",
        "import subprocess\n",
        "\n",
        "def download_dataset():\n",
        "    subprocess.run([\"gdown\", \"https://drive.google.com/uc?id=1FomR78IlcqHqNi77fXAJCMgvEebihhF-\"])\n",
        "\n",
        "def extract_dataset(zip_file, extract_to=\".\"):\n",
        "    with zipfile.ZipFile(zip_file, 'r') as zip_ref:\n",
        "        zip_ref.extractall(extract_to)\n",
        "\n",
        "if __name__ == \"__main__\":\n",
        "\n",
        "    # Download the dataset\n",
        "    download_dataset()\n",
        "\n",
        "    # Extract the dataset\n",
        "    extract_dataset('Dataset.zip')"
      ],
      "metadata": {
        "id": "1q1FMQ07Pr9U"
      },
      "execution_count": null,
      "outputs": []
    },
    {
      "cell_type": "code",
      "source": [
        "import os\n",
        "import numpy as np\n",
        "import pandas as pd\n",
        "import cv2\n",
        "import torch\n",
        "import torch.nn as nn\n",
        "import torch.optim as optim\n",
        "from torch.utils.data import Dataset, DataLoader\n",
        "from torchvision import transforms, models\n",
        "from tqdm import tqdm\n",
        "from statistics import mean\n",
        "from transformers import SamProcessor, SamModel, SamImageProcessor\n",
        "\n",
        "# Paths\n",
        "images_dir = \"/content/Dataset/images\"\n",
        "masks_dir = \"/content/Dataset/masks\"\n",
        "csv_file = \"data.csv\"\n",
        "checkpoint_dir = \"/content/checkpoints\"\n",
        "\n",
        "# Create checkpoint directory if it doesn't exist\n",
        "os.makedirs(checkpoint_dir, exist_ok=True)\n",
        "\n",
        "# Read the CSV to determine number of classes\n",
        "data = pd.read_csv(csv_file)\n",
        "num_classes = len(data['dx'].unique())\n",
        "\n",
        "# Hyperparameters\n",
        "batch_size = 4\n",
        "learning_rate = 0.001\n",
        "num_epochs = 100\n",
        "accumulation_steps = 4\n",
        "\n",
        "# Data transformations\n",
        "transform = transforms.Compose([\n",
        "    transforms.ToPILImage(),\n",
        "    transforms.ToTensor()\n",
        "])\n",
        "\n",
        "# Utility function to get bounding box\n",
        "def get_bounding_box(ground_truth_map):\n",
        "    y_indices, x_indices = np.where(ground_truth_map > 0)\n",
        "    if len(y_indices) == 0 or len(x_indices) == 0:\n",
        "        x_min, x_max, y_min, y_max = 0, 0, 0, 0\n",
        "    else:\n",
        "        x_min, x_max = np.min(x_indices), np.max(x_indices)\n",
        "        y_min, y_max = np.min(y_indices), np.max(y_indices)\n",
        "        H, W = ground_truth_map.shape\n",
        "    x_min = max(0, x_min - np.random.randint(0, 20))\n",
        "    x_max = min(W, x_max + np.random.randint(0, 20))\n",
        "    y_min = max(0, y_min - np.random.randint(0, 20))\n",
        "    y_max = min(H, y_max + np.random.randint(0, 20))\n",
        "    return [x_min, y_min, x_max, y_max]\n",
        "\n",
        "# Custom dataset\n",
        "class CustomImageItemDataset(Dataset):\n",
        "    def __init__(self, images_dir, masks_dir, csv_file, transform=None, target_size=(256, 256)):\n",
        "        self.images_dir = images_dir\n",
        "        self.masks_dir = masks_dir\n",
        "        self.data = pd.read_csv(csv_file)\n",
        "        self.transform = transform\n",
        "        self.target_size = target_size\n",
        "        unique_labels = self.data['dx'].unique()\n",
        "        self.label_map = {label: idx for idx, label in enumerate(unique_labels)}\n",
        "\n",
        "    def __len__(self):\n",
        "        return len(self.data)\n",
        "\n",
        "    def __getitem__(self, idx):\n",
        "        img_name = os.path.join(self.images_dir, f\"{self.data.iloc[idx, 0]}.bmp\")\n",
        "        mask_name = os.path.join(self.masks_dir, f\"{self.data.iloc[idx, 0]}_lesion.bmp\")\n",
        "        if not os.path.isfile(img_name) or not os.path.isfile(mask_name):\n",
        "            raise ValueError(f\"Image or mask file not found for index {idx}\")\n",
        "        image = cv2.imread(img_name)\n",
        "        mask = cv2.imread(mask_name, cv2.IMREAD_GRAYSCALE)\n",
        "\n",
        "        if image is None:\n",
        "            raise ValueError(f\"Error loading image at {img_name}\")\n",
        "        if mask is None:\n",
        "            raise ValueError(f\"Error loading mask at {mask_name}\")\n",
        "\n",
        "        image = cv2.resize(image, self.target_size, interpolation=cv2.INTER_NEAREST)\n",
        "        mask = cv2.resize(mask, self.target_size, interpolation=cv2.INTER_NEAREST)\n",
        "        _, mask = cv2.threshold(mask, 128, 255, cv2.THRESH_BINARY)\n",
        "        label_str = self.data.iloc[idx, 1]\n",
        "        if label_str not in self.label_map:\n",
        "            raise ValueError(f\"Unknown label: {label_str}\")\n",
        "\n",
        "        label = self.label_map[label_str]\n",
        "        label = torch.tensor(label, dtype=torch.long)\n",
        "        if self.transform:\n",
        "            image = self.transform(image)\n",
        "            mask = self.transform(mask)\n",
        "        return {\"image\": image, \"mask\": mask, \"label\": label, \"mask_name\": mask_name}\n",
        "\n",
        "# SAM Dataset\n",
        "class SAMDataset(Dataset):\n",
        "    def __init__(self, dataset, processor, transform=None):\n",
        "        self.dataset = dataset\n",
        "        self.processor = processor\n",
        "        self.transform = transform\n",
        "\n",
        "    def __len__(self):\n",
        "        return len(self.dataset)\n",
        "\n",
        "    def __getitem__(self, idx):\n",
        "        item = self.dataset[idx]\n",
        "        image = item[\"image\"]\n",
        "        mask_name = item[\"mask_name\"]\n",
        "        ground_truth_mask = cv2.imread(mask_name, cv2.IMREAD_GRAYSCALE)\n",
        "\n",
        "        if ground_truth_mask is None:\n",
        "            raise ValueError(f\"Error loading mask at {mask_name}\")\n",
        "\n",
        "        ground_truth_mask = cv2.resize(ground_truth_mask, (image.shape[2], image.shape[1]), interpolation=cv2.INTER_NEAREST)\n",
        "        if self.transform:\n",
        "            ground_truth_mask = self.transform(ground_truth_mask)\n",
        "\n",
        "        ground_truth_mask = torch.tensor(ground_truth_mask, dtype=torch.float32).unsqueeze(0)\n",
        "        prompt = get_bounding_box(ground_truth_mask.numpy().squeeze())\n",
        "        inputs = self.processor(image, input_boxes=[[prompt]], return_tensors=\"pt\", do_rescale=False)\n",
        "        inputs = {k: v.squeeze(0) for k, v in inputs.items()}\n",
        "        inputs[\"ground_truth_mask\"] = ground_truth_mask\n",
        "        inputs[\"label\"] = item[\"label\"]\n",
        "        return inputs\n",
        "\n",
        "# Model definition\n",
        "class DenseNetClassifier(nn.Module):\n",
        "    def __init__(self, num_classes):\n",
        "        super(DenseNetClassifier, self).__init__()\n",
        "        self.densenet = models.densenet121(weights=\"IMAGENET1K_V1\")\n",
        "        self.densenet.features.conv0 = nn.Conv2d(6, 64, kernel_size=7, stride=2, padding=3, bias=False)\n",
        "        self.densenet.classifier = nn.Linear(self.densenet.classifier.in_features, num_classes)\n",
        "\n",
        "    def forward(self, x):\n",
        "        x = self.densenet(x)\n",
        "        return x\n",
        "\n",
        "if __name__ == \"__main__\":\n",
        "    device = torch.device('cuda' if torch.cuda.is_available() else 'cpu')\n",
        "    image_processor = SamImageProcessor()\n",
        "    processor = SamProcessor(image_processor)\n",
        "    sam_model = SamModel.from_pretrained(\"facebook/sam-vit-base\")\n",
        "    sam_model = sam_model.to(device)\n",
        "    dataset = CustomImageItemDataset(images_dir, masks_dir, csv_file, transform=transform)\n",
        "    train_dataset = SAMDataset(dataset=dataset, processor=processor)\n",
        "    train_loader = DataLoader(train_dataset, batch_size=batch_size, shuffle=True, drop_last=False, pin_memory=True, num_workers=2)\n",
        "    classifier = DenseNetClassifier(num_classes=num_classes)\n",
        "    classifier = classifier.to(device)\n",
        "    criterion = nn.CrossEntropyLoss()\n",
        "    optimizer = optim.Adam(classifier.parameters(), lr=learning_rate)\n",
        "    scaler = torch.cuda.amp.GradScaler()  # For mixed precision training\n",
        "\n",
        "    start_epoch = 0\n",
        "\n",
        "    # Load checkpoint if available\n",
        "    checkpoint_path = os.path.join(checkpoint_dir, \"checkpoint.pth\")\n",
        "    if os.path.exists(checkpoint_path):\n",
        "        checkpoint = torch.load(checkpoint_path)\n",
        "        classifier.load_state_dict(checkpoint['classifier_state_dict'])\n",
        "        optimizer.load_state_dict(checkpoint['optimizer_state_dict'])\n",
        "        scaler.load_state_dict(checkpoint['scaler_state_dict'])\n",
        "        start_epoch = checkpoint['epoch'] + 1\n",
        "        print(f\"Loaded checkpoint from epoch {start_epoch}\")\n",
        "\n",
        "    for epoch in range(start_epoch, num_epochs):\n",
        "        epoch_losses = []\n",
        "        classifier.train()\n",
        "        sam_model.eval()  # Ensure SAM model is in evaluation mode\n",
        "        for i, batch in enumerate(tqdm(train_loader)):\n",
        "            images = batch[\"pixel_values\"].to(device)\n",
        "            labels = batch[\"label\"].to(device)\n",
        "            optimizer.zero_grad()\n",
        "            with torch.no_grad():\n",
        "                sam_output = sam_model(images, input_boxes=None)\n",
        "                pred_masks = sam_output[\"pred_masks\"]  # Extract predicted masks\n",
        "\n",
        "                # Squeeze the unnecessary dimension\n",
        "                pred_masks = pred_masks.squeeze(1)  # Now shape is [batch_size, num_predictions, height, width]\n",
        "\n",
        "                # Combine masks across channels\n",
        "                pred_masks = pred_masks.permute(0, 2, 3, 1).reshape(pred_masks.shape[0], pred_masks.shape[2], pred_masks.shape[3], -1)\n",
        "\n",
        "                pred_masks = pred_masks.permute(0, 3, 1, 2)  # Permute to match [batch_size, channels, height, width]\n",
        "                pred_masks = pred_masks[:, :3, :, :]  # Select the first 3 channels\n",
        "\n",
        "                # Resize pred_masks to match images dimensions\n",
        "                pred_masks = torch.nn.functional.interpolate(pred_masks, size=(images.shape[2], images.shape[3]), mode='bilinear')\n",
        "\n",
        "                combined_input = torch.cat((images, pred_masks), dim=1)  # Combine images and masks\n",
        "\n",
        "            with torch.cuda.amp.autocast():\n",
        "                outputs = classifier(combined_input)\n",
        "                loss = criterion(outputs, labels)\n",
        "\n",
        "            scaler.scale(loss).backward()\n",
        "            scaler.step(optimizer)\n",
        "            scaler.update()\n",
        "\n",
        "            epoch_losses.append(loss.item())\n",
        "\n",
        "        print(f\"Epoch {epoch + 1}/{num_epochs}, Loss: {mean(epoch_losses)}\")\n",
        "\n",
        "        # Save checkpoint every 10 epochs\n",
        "        if (epoch + 1) % 10 == 0:\n",
        "            checkpoint = {\n",
        "                'epoch': epoch,\n",
        "                'classifier_state_dict': classifier.state_dict(),\n",
        "                'optimizer_state_dict': optimizer.state_dict(),\n",
        "                'scaler_state_dict': scaler.state_dict()\n",
        "}\n",
        "torch.save(checkpoint, checkpoint_path)\n",
        "print(f\"Checkpoint saved at epoch {epoch + 1}\")"
      ],
      "metadata": {
        "colab": {
          "base_uri": "https://localhost:8080/"
        },
        "id": "uGct8fP4CXWT",
        "outputId": "14e3ab95-e584-46b0-9c42-3dd7ac2af706"
      },
      "execution_count": 6,
      "outputs": [
        {
          "output_type": "stream",
          "name": "stderr",
          "text": [
            "100%|██████████| 50/50 [01:47<00:00,  2.16s/it]\n"
          ]
        },
        {
          "output_type": "stream",
          "name": "stdout",
          "text": [
            "Epoch 93/100, Loss: 0.6486119413375855\n"
          ]
        },
        {
          "output_type": "stream",
          "name": "stderr",
          "text": [
            "100%|██████████| 50/50 [01:47<00:00,  2.15s/it]\n"
          ]
        },
        {
          "output_type": "stream",
          "name": "stdout",
          "text": [
            "Epoch 94/100, Loss: 0.6354011917114257\n"
          ]
        },
        {
          "output_type": "stream",
          "name": "stderr",
          "text": [
            "100%|██████████| 50/50 [01:47<00:00,  2.15s/it]\n"
          ]
        },
        {
          "output_type": "stream",
          "name": "stdout",
          "text": [
            "Epoch 95/100, Loss: 0.6520820331573486\n"
          ]
        },
        {
          "output_type": "stream",
          "name": "stderr",
          "text": [
            "100%|██████████| 50/50 [01:47<00:00,  2.15s/it]\n"
          ]
        },
        {
          "output_type": "stream",
          "name": "stdout",
          "text": [
            "Epoch 96/100, Loss: 0.6529144430160523\n"
          ]
        },
        {
          "output_type": "stream",
          "name": "stderr",
          "text": [
            "100%|██████████| 50/50 [01:47<00:00,  2.15s/it]\n"
          ]
        },
        {
          "output_type": "stream",
          "name": "stdout",
          "text": [
            "Epoch 97/100, Loss: 0.6196100664138794\n"
          ]
        },
        {
          "output_type": "stream",
          "name": "stderr",
          "text": [
            "100%|██████████| 50/50 [01:47<00:00,  2.16s/it]\n"
          ]
        },
        {
          "output_type": "stream",
          "name": "stdout",
          "text": [
            "Epoch 98/100, Loss: 0.689238737821579\n"
          ]
        },
        {
          "output_type": "stream",
          "name": "stderr",
          "text": [
            "100%|██████████| 50/50 [01:47<00:00,  2.16s/it]\n"
          ]
        },
        {
          "output_type": "stream",
          "name": "stdout",
          "text": [
            "Epoch 99/100, Loss: 0.6774929308891297\n"
          ]
        },
        {
          "output_type": "stream",
          "name": "stderr",
          "text": [
            "100%|██████████| 50/50 [01:47<00:00,  2.16s/it]\n"
          ]
        },
        {
          "output_type": "stream",
          "name": "stdout",
          "text": [
            "Epoch 100/100, Loss: 0.6850839614868164\n",
            "Checkpoint saved at epoch 100\n"
          ]
        }
      ]
    },
    {
      "cell_type": "code",
      "source": [
        "from google.colab import drive\n",
        "drive.mount('/content/drive')"
      ],
      "metadata": {
        "colab": {
          "base_uri": "https://localhost:8080/"
        },
        "id": "onZhNqc11mBl",
        "outputId": "0449ea08-bcdc-479b-8911-01f5ea537f31"
      },
      "execution_count": 10,
      "outputs": [
        {
          "output_type": "stream",
          "name": "stdout",
          "text": [
            "Mounted at /content/drive\n"
          ]
        }
      ]
    },
    {
      "cell_type": "code",
      "source": [
        "import os\n",
        "import numpy as np\n",
        "import pandas as pd\n",
        "import cv2\n",
        "import torch\n",
        "import torch.nn as nn\n",
        "from torch.utils.data import Dataset, DataLoader\n",
        "from torchvision import transforms, models\n",
        "from transformers import SamProcessor, SamModel, SamImageProcessor\n",
        "from tqdm import tqdm\n",
        "from statistics import mean\n",
        "from sklearn.metrics import confusion_matrix, precision_recall_fscore_support\n",
        "import matplotlib.pyplot as plt\n",
        "import seaborn as sns\n",
        "\n",
        "# Paths\n",
        "images_dir = \"/content/Dataset/images\"\n",
        "masks_dir = \"/content/Dataset/masks\"\n",
        "csv_file = \"data.csv\"\n",
        "checkpoint_path = \"/content/drive/MyDrive/499B/checkpoint.pth\"  # Adjust path to your checkpoint\n",
        "\n",
        "# Read the CSV to determine number of classes\n",
        "data = pd.read_csv(csv_file)\n",
        "num_classes = len(data['dx'].unique())\n",
        "\n",
        "# Data transformations\n",
        "transform = transforms.Compose([\n",
        "    transforms.ToPILImage(),\n",
        "    transforms.ToTensor()\n",
        "])\n",
        "\n",
        "# Custom dataset for evaluation\n",
        "class CustomImageItemDataset(Dataset):\n",
        "    def __init__(self, images_dir, masks_dir, csv_file, transform=None, target_size=(256, 256)):\n",
        "        self.images_dir = images_dir\n",
        "        self.masks_dir = masks_dir\n",
        "        self.data = pd.read_csv(csv_file)\n",
        "        self.transform = transform\n",
        "        self.target_size = target_size\n",
        "        unique_labels = self.data['dx'].unique()\n",
        "        self.label_map = {label: idx for idx, label in enumerate(unique_labels)}\n",
        "\n",
        "    def __len__(self):\n",
        "        return len(self.data)\n",
        "\n",
        "    def __getitem__(self, idx):\n",
        "        img_name = os.path.join(self.images_dir, f\"{self.data.iloc[idx, 0]}.bmp\")\n",
        "        mask_name = os.path.join(self.masks_dir, f\"{self.data.iloc[idx, 0]}_lesion.bmp\")\n",
        "        if not os.path.isfile(img_name) or not os.path.isfile(mask_name):\n",
        "            raise ValueError(f\"Image or mask file not found for index {idx}\")\n",
        "        image = cv2.imread(img_name)\n",
        "        mask = cv2.imread(mask_name, cv2.IMREAD_GRAYSCALE)\n",
        "\n",
        "        if image is None:\n",
        "            raise ValueError(f\"Error loading image at {img_name}\")\n",
        "        if mask is None:\n",
        "            raise ValueError(f\"Error loading mask at {mask_name}\")\n",
        "\n",
        "        image = cv2.resize(image, self.target_size, interpolation=cv2.INTER_NEAREST)\n",
        "        mask = cv2.resize(mask, self.target_size, interpolation=cv2.INTER_NEAREST)\n",
        "        _, mask = cv2.threshold(mask, 128, 255, cv2.THRESH_BINARY)\n",
        "        label_str = self.data.iloc[idx, 1]\n",
        "        if label_str not in self.label_map:\n",
        "            raise ValueError(f\"Unknown label: {label_str}\")\n",
        "\n",
        "        label = self.label_map[label_str]\n",
        "        label = torch.tensor(label, dtype=torch.long)\n",
        "        if self.transform:\n",
        "            image = self.transform(image)\n",
        "            mask = self.transform(mask)\n",
        "        return {\"image\": image, \"mask\": mask, \"label\": label, \"mask_name\": mask_name}\n",
        "\n",
        "# SAM Dataset for evaluation\n",
        "class SAMDataset(Dataset):\n",
        "    def __init__(self, dataset, processor, transform=None):\n",
        "        self.dataset = dataset\n",
        "        self.processor = processor\n",
        "        self.transform = transform\n",
        "\n",
        "    def __len__(self):\n",
        "        return len(self.dataset)\n",
        "\n",
        "    def __getitem__(self, idx):\n",
        "        item = self.dataset[idx]\n",
        "        image = item[\"image\"]\n",
        "        mask_name = item[\"mask_name\"]\n",
        "        ground_truth_mask = cv2.imread(mask_name, cv2.IMREAD_GRAYSCALE)\n",
        "\n",
        "        if ground_truth_mask is None:\n",
        "            raise ValueError(f\"Error loading mask at {mask_name}\")\n",
        "\n",
        "        ground_truth_mask = cv2.resize(ground_truth_mask, (image.shape[2], image.shape[1]), interpolation=cv2.INTER_NEAREST)\n",
        "        if self.transform:\n",
        "            ground_truth_mask = self.transform(ground_truth_mask)\n",
        "\n",
        "        ground_truth_mask = torch.tensor(ground_truth_mask, dtype=torch.float32).unsqueeze(0)\n",
        "        prompt = get_bounding_box(ground_truth_mask.numpy().squeeze())\n",
        "        inputs = self.processor(image, input_boxes=[[prompt]], return_tensors=\"pt\", do_rescale=False)\n",
        "        inputs = {k: v.squeeze(0) for k, v in inputs.items()}\n",
        "        inputs[\"ground_truth_mask\"] = ground_truth_mask\n",
        "        inputs[\"label\"] = item[\"label\"]\n",
        "        return inputs\n",
        "\n",
        "# Model definition\n",
        "class DenseNetClassifier(nn.Module):\n",
        "    def __init__(self, num_classes):\n",
        "        super(DenseNetClassifier, self).__init__()\n",
        "        self.densenet = models.densenet121(pretrained=False)\n",
        "        self.densenet.features.conv0 = nn.Conv2d(6, 64, kernel_size=7, stride=2, padding=3, bias=False)\n",
        "        self.densenet.classifier = nn.Linear(self.densenet.classifier.in_features, num_classes)\n",
        "\n",
        "    def forward(self, x):\n",
        "        x = self.densenet(x)\n",
        "        return x\n",
        "\n",
        "def plot_confusion_matrix(cm, class_names):\n",
        "    \"\"\"\n",
        "    Plot a confusion matrix heatmap.\n",
        "    \"\"\"\n",
        "    fig, ax = plt.subplots(figsize=(8, 6))\n",
        "    sns.heatmap(cm, annot=True, fmt=\"d\", cmap=\"Blues\", cbar=False,\n",
        "                xticklabels=class_names, yticklabels=class_names, ax=ax)\n",
        "    ax.set_xlabel('Predicted labels')\n",
        "    ax.set_ylabel('True labels')\n",
        "    ax.set_title('Confusion Matrix')\n",
        "    plt.yticks(rotation=0)\n",
        "    plt.xticks(rotation=45)\n",
        "    plt.show()\n",
        "\n",
        "if __name__ == \"__main__\":\n",
        "    device = torch.device('cuda' if torch.cuda.is_available() else 'cpu')\n",
        "    image_processor = SamImageProcessor()\n",
        "    processor = SamProcessor(image_processor)\n",
        "    sam_model = SamModel.from_pretrained(\"Facebook/sam-vit-base\")\n",
        "    sam_model = sam_model.to(device)\n",
        "    dataset = CustomImageItemDataset(images_dir, masks_dir, csv_file, transform=transform)\n",
        "    eval_dataset = SAMDataset(dataset=dataset, processor=processor, transform=transform)\n",
        "    eval_loader = DataLoader(eval_dataset, batch_size=4, shuffle=False, num_workers=2)\n",
        "\n",
        "    # Initialize model and load checkpoint\n",
        "    classifier = DenseNetClassifier(num_classes=num_classes)\n",
        "    classifier = classifier.to(device)\n",
        "    checkpoint = torch.load(checkpoint_path)\n",
        "\n",
        "    # Modify checkpoint to adapt to current model\n",
        "    classifier_dict = classifier.state_dict()\n",
        "    pretrained_dict = {k: v for k, v in checkpoint['classifier_state_dict'].items() if k in classifier_dict}\n",
        "    classifier_dict.update(pretrained_dict)\n",
        "    classifier.load_state_dict(classifier_dict)\n",
        "\n",
        "    classifier.eval()  # Set model to evaluation mode\n",
        "\n",
        "    criterion = nn.CrossEntropyLoss()\n",
        "    all_predictions = []\n",
        "    all_labels = []\n",
        "\n",
        "    with torch.no_grad():\n",
        "        for batch in tqdm(eval_loader):\n",
        "            images = batch[\"pixel_values\"].to(device)\n",
        "            labels = batch[\"label\"].to(device)\n",
        "\n",
        "            sam_output = sam_model(images, input_boxes=None)\n",
        "            pred_masks = sam_output[\"pred_masks\"]  # Extract predicted masks\n",
        "\n",
        "            # Squeeze the unnecessary dimension\n",
        "            pred_masks = pred_masks.squeeze(1)  # Now shape is [batch_size, num_predictions, height, width]\n",
        "\n",
        "            # Combine masks across channels\n",
        "            pred_masks = pred_masks.permute(0, 2, 3, 1).reshape(pred_masks.shape[0], pred_masks.shape[2], pred_masks.shape[3], -1)\n",
        "            pred_masks = pred_masks.permute(0, 3, 1, 2)  # Permute to match [batch_size, channels, height, width]\n",
        "            pred_masks = pred_masks[:, :3, :, :]  # Select the first 3 channels\n",
        "\n",
        "            # Resize pred_masks to match images dimensions\n",
        "            pred_masks = torch.nn.functional.interpolate(pred_masks, size=(images.shape[2], images.shape[3]), mode='bilinear')\n",
        "\n",
        "            combined_input = torch.cat((images, pred_masks), dim=1)  # Combine images and masks\n",
        "\n",
        "            outputs = classifier(combined_input)\n",
        "            _, predicted = torch.max(outputs, 1)\n",
        "\n",
        "            all_predictions.extend(predicted.cpu().numpy())\n",
        "            all_labels.extend(labels.cpu().numpy())\n",
        "\n",
        "    # Calculate evaluation metrics\n",
        "    accuracy = np.mean(np.array(all_predictions) == np.array(all_labels))\n",
        "    print(f\"Accuracy: {accuracy}\")\n",
        "\n",
        "    # Calculate precision, recall, F1 score\n",
        "    precision, recall, f1, _ = precision_recall_fscore_support(all_labels, all_predictions, average='weighted')\n",
        "    print(f\"Precision: {precision:.4f}, Recall: {recall:.4f}, F1 Score: {f1:.4f}\")\n",
        "\n",
        "    # Create confusion matrix\n",
        "    class_names = data['dx'].unique()\n",
        "    cm = confusion_matrix(all_labels, all_predictions)\n",
        "    plot_confusion_matrix(cm, class_names)"
      ],
      "metadata": {
        "colab": {
          "base_uri": "https://localhost:8080/",
          "height": 913
        },
        "id": "S9fibhny5d_2",
        "outputId": "3283fa25-31ac-4bb7-fffc-2b55b3c7bb23"
      },
      "execution_count": 20,
      "outputs": [
        {
          "output_type": "stream",
          "name": "stderr",
          "text": [
            "/usr/local/lib/python3.10/dist-packages/torchvision/models/_utils.py:208: UserWarning: The parameter 'pretrained' is deprecated since 0.13 and may be removed in the future, please use 'weights' instead.\n",
            "  warnings.warn(\n",
            "/usr/local/lib/python3.10/dist-packages/torchvision/models/_utils.py:223: UserWarning: Arguments other than a weight enum or `None` for 'weights' are deprecated since 0.13 and may be removed in the future. The current behavior is equivalent to passing `weights=None`.\n",
            "  warnings.warn(msg)\n",
            "  0%|          | 0/50 [00:00<?, ?it/s]/usr/lib/python3.10/multiprocessing/popen_fork.py:66: RuntimeWarning: os.fork() was called. os.fork() is incompatible with multithreaded code, and JAX is multithreaded, so this will likely lead to a deadlock.\n",
            "  self.pid = os.fork()\n",
            "<ipython-input-20-015282bafacb>:96: UserWarning: To copy construct from a tensor, it is recommended to use sourceTensor.clone().detach() or sourceTensor.clone().detach().requires_grad_(True), rather than torch.tensor(sourceTensor).\n",
            "  ground_truth_mask = torch.tensor(ground_truth_mask, dtype=torch.float32).unsqueeze(0)\n",
            "/usr/lib/python3.10/multiprocessing/popen_fork.py:66: RuntimeWarning: os.fork() was called. os.fork() is incompatible with multithreaded code, and JAX is multithreaded, so this will likely lead to a deadlock.\n",
            "  self.pid = os.fork()\n",
            "<ipython-input-20-015282bafacb>:96: UserWarning: To copy construct from a tensor, it is recommended to use sourceTensor.clone().detach() or sourceTensor.clone().detach().requires_grad_(True), rather than torch.tensor(sourceTensor).\n",
            "  ground_truth_mask = torch.tensor(ground_truth_mask, dtype=torch.float32).unsqueeze(0)\n",
            "100%|██████████| 50/50 [01:32<00:00,  1.85s/it]\n"
          ]
        },
        {
          "output_type": "stream",
          "name": "stdout",
          "text": [
            "Accuracy: 0.76\n",
            "Precision: 0.7840, Recall: 0.7600, F1 Score: 0.7436\n"
          ]
        },
        {
          "output_type": "display_data",
          "data": {
            "text/plain": [
              "<Figure size 800x600 with 1 Axes>"
            ],
            "image/png": "[encoded data removed]"
          },
          "metadata": {}
        }
      ]
    }
  ],
  "metadata": {
    "colab": {
      "provenance": [],
      "gpuType": "T4",
      "include_colab_link": true
    },
    "kernelspec": {
      "display_name": "Python 3",
      "name": "python3"
    },
    "accelerator": "GPU"
  },
  "nbformat": 4,
  "nbformat_minor": 0
}