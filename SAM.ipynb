{
  "cells": [
    {
      "cell_type": "markdown",
      "metadata": {
        "id": "view-in-github",
        "colab_type": "text"
      },
      "source": [
        "<a href=\"https://colab.research.google.com/github/NahinAlam001/499B/blob/Segment-Anything/SAM.ipynb\" target=\"_parent\"><img src=\"https://colab.research.google.com/assets/colab-badge.svg\" alt=\"Open In Colab\"/></a>"
      ]
    },
    {
      "cell_type": "code",
      "execution_count": 1,
      "metadata": {
        "id": "5sZZbg7HNNYS",
        "colab": {
          "base_uri": "https://localhost:8080/"
        },
        "outputId": "cc4d33c6-5501-4d94-dbc1-3965653778a3"
      },
      "outputs": [
        {
          "output_type": "stream",
          "name": "stdout",
          "text": [
            "Mounted at /content/drive\n"
          ]
        }
      ],
      "source": [
        "from google.colab import drive\n",
        "drive.mount('/content/drive')"
      ]
    },
    {
      "cell_type": "code",
      "source": [
        "!pip install datasets"
      ],
      "metadata": {
        "colab": {
          "base_uri": "https://localhost:8080/"
        },
        "id": "_Hk8GDcSJRtq",
        "outputId": "350b8a3e-c58d-4c54-b21c-9e9d2bfaa310"
      },
      "execution_count": 2,
      "outputs": [
        {
          "output_type": "stream",
          "name": "stdout",
          "text": [
            "Collecting datasets\n",
            "  Downloading datasets-2.19.1-py3-none-any.whl (542 kB)\n",
            "\u001b[2K     \u001b[90m━━━━━━━━━━━━━━━━━━━━━━━━━━━━━━━━━━━━━━━━\u001b[0m \u001b[32m542.0/542.0 kB\u001b[0m \u001b[31m5.8 MB/s\u001b[0m eta \u001b[36m0:00:00\u001b[0m\n",
            "\u001b[?25hRequirement already satisfied: filelock in /usr/local/lib/python3.10/dist-packages (from datasets) (3.14.0)\n",
            "Requirement already satisfied: numpy>=1.17 in /usr/local/lib/python3.10/dist-packages (from datasets) (1.25.2)\n",
            "Requirement already satisfied: pyarrow>=12.0.0 in /usr/local/lib/python3.10/dist-packages (from datasets) (14.0.2)\n",
            "Requirement already satisfied: pyarrow-hotfix in /usr/local/lib/python3.10/dist-packages (from datasets) (0.6)\n",
            "Collecting dill<0.3.9,>=0.3.0 (from datasets)\n",
            "  Downloading dill-0.3.8-py3-none-any.whl (116 kB)\n",
            "\u001b[2K     \u001b[90m━━━━━━━━━━━━━━━━━━━━━━━━━━━━━━━━━━━━━━━━\u001b[0m \u001b[32m116.3/116.3 kB\u001b[0m \u001b[31m9.5 MB/s\u001b[0m eta \u001b[36m0:00:00\u001b[0m\n",
            "\u001b[?25hRequirement already satisfied: pandas in /usr/local/lib/python3.10/dist-packages (from datasets) (2.0.3)\n",
            "Requirement already satisfied: requests>=2.19.0 in /usr/local/lib/python3.10/dist-packages (from datasets) (2.31.0)\n",
            "Requirement already satisfied: tqdm>=4.62.1 in /usr/local/lib/python3.10/dist-packages (from datasets) (4.66.4)\n",
            "Collecting xxhash (from datasets)\n",
            "  Downloading xxhash-3.4.1-cp310-cp310-manylinux_2_17_x86_64.manylinux2014_x86_64.whl (194 kB)\n",
            "\u001b[2K     \u001b[90m━━━━━━━━━━━━━━━━━━━━━━━━━━━━━━━━━━━━━━━━\u001b[0m \u001b[32m194.1/194.1 kB\u001b[0m \u001b[31m10.4 MB/s\u001b[0m eta \u001b[36m0:00:00\u001b[0m\n",
            "\u001b[?25hCollecting multiprocess (from datasets)\n",
            "  Downloading multiprocess-0.70.16-py310-none-any.whl (134 kB)\n",
            "\u001b[2K     \u001b[90m━━━━━━━━━━━━━━━━━━━━━━━━━━━━━━━━━━━━━━━━\u001b[0m \u001b[32m134.8/134.8 kB\u001b[0m \u001b[31m9.8 MB/s\u001b[0m eta \u001b[36m0:00:00\u001b[0m\n",
            "\u001b[?25hRequirement already satisfied: fsspec[http]<=2024.3.1,>=2023.1.0 in /usr/local/lib/python3.10/dist-packages (from datasets) (2023.6.0)\n",
            "Requirement already satisfied: aiohttp in /usr/local/lib/python3.10/dist-packages (from datasets) (3.9.5)\n",
            "Collecting huggingface-hub>=0.21.2 (from datasets)\n",
            "  Downloading huggingface_hub-0.23.0-py3-none-any.whl (401 kB)\n",
            "\u001b[2K     \u001b[90m━━━━━━━━━━━━━━━━━━━━━━━━━━━━━━━━━━━━━━━━\u001b[0m \u001b[32m401.2/401.2 kB\u001b[0m \u001b[31m12.2 MB/s\u001b[0m eta \u001b[36m0:00:00\u001b[0m\n",
            "\u001b[?25hRequirement already satisfied: packaging in /usr/local/lib/python3.10/dist-packages (from datasets) (24.0)\n",
            "Requirement already satisfied: pyyaml>=5.1 in /usr/local/lib/python3.10/dist-packages (from datasets) (6.0.1)\n",
            "Requirement already satisfied: aiosignal>=1.1.2 in /usr/local/lib/python3.10/dist-packages (from aiohttp->datasets) (1.3.1)\n",
            "Requirement already satisfied: attrs>=17.3.0 in /usr/local/lib/python3.10/dist-packages (from aiohttp->datasets) (23.2.0)\n",
            "Requirement already satisfied: frozenlist>=1.1.1 in /usr/local/lib/python3.10/dist-packages (from aiohttp->datasets) (1.4.1)\n",
            "Requirement already satisfied: multidict<7.0,>=4.5 in /usr/local/lib/python3.10/dist-packages (from aiohttp->datasets) (6.0.5)\n",
            "Requirement already satisfied: yarl<2.0,>=1.0 in /usr/local/lib/python3.10/dist-packages (from aiohttp->datasets) (1.9.4)\n",
            "Requirement already satisfied: async-timeout<5.0,>=4.0 in /usr/local/lib/python3.10/dist-packages (from aiohttp->datasets) (4.0.3)\n",
            "Requirement already satisfied: typing-extensions>=3.7.4.3 in /usr/local/lib/python3.10/dist-packages (from huggingface-hub>=0.21.2->datasets) (4.11.0)\n",
            "Requirement already satisfied: charset-normalizer<4,>=2 in /usr/local/lib/python3.10/dist-packages (from requests>=2.19.0->datasets) (3.3.2)\n",
            "Requirement already satisfied: idna<4,>=2.5 in /usr/local/lib/python3.10/dist-packages (from requests>=2.19.0->datasets) (3.7)\n",
            "Requirement already satisfied: urllib3<3,>=1.21.1 in /usr/local/lib/python3.10/dist-packages (from requests>=2.19.0->datasets) (2.0.7)\n",
            "Requirement already satisfied: certifi>=2017.4.17 in /usr/local/lib/python3.10/dist-packages (from requests>=2.19.0->datasets) (2024.2.2)\n",
            "Requirement already satisfied: python-dateutil>=2.8.2 in /usr/local/lib/python3.10/dist-packages (from pandas->datasets) (2.8.2)\n",
            "Requirement already satisfied: pytz>=2020.1 in /usr/local/lib/python3.10/dist-packages (from pandas->datasets) (2023.4)\n",
            "Requirement already satisfied: tzdata>=2022.1 in /usr/local/lib/python3.10/dist-packages (from pandas->datasets) (2024.1)\n",
            "Requirement already satisfied: six>=1.5 in /usr/local/lib/python3.10/dist-packages (from python-dateutil>=2.8.2->pandas->datasets) (1.16.0)\n",
            "Installing collected packages: xxhash, dill, multiprocess, huggingface-hub, datasets\n",
            "  Attempting uninstall: huggingface-hub\n",
            "    Found existing installation: huggingface-hub 0.20.3\n",
            "    Uninstalling huggingface-hub-0.20.3:\n",
            "      Successfully uninstalled huggingface-hub-0.20.3\n",
            "Successfully installed datasets-2.19.1 dill-0.3.8 huggingface-hub-0.23.0 multiprocess-0.70.16 xxhash-3.4.1\n"
          ]
        }
      ]
    },
    {
      "cell_type": "code",
      "execution_count": 3,
      "metadata": {
        "id": "NSkTx6N-Mtyd"
      },
      "outputs": [],
      "source": [
        "# # Install the required libraries\n",
        "# #SAM\n",
        "# !pip install git+https://github.com/facebookresearch/segment-anything.git\n",
        "# #Transformers\n",
        "# !pip install -q git+https://github.com/huggingface/transformers.git\n",
        "# #Datasets to prepare data and monai if you want to use special loss functions\n",
        "# !pip install datasets\n",
        "# !pip install -q monai"
      ]
    },
    {
      "cell_type": "code",
      "execution_count": 4,
      "metadata": {
        "id": "aTXUX7xyCEGT"
      },
      "outputs": [],
      "source": [
        "import numpy as np\n",
        "import matplotlib.pyplot as plt\n",
        "import os\n",
        "from PIL import Image\n",
        "import random\n",
        "from scipy import ndimage\n",
        "import imageio"
      ]
    },
    {
      "cell_type": "code",
      "execution_count": 5,
      "metadata": {
        "id": "hmG8Ca0nCp6a",
        "colab": {
          "base_uri": "https://localhost:8080/"
        },
        "outputId": "e1ab6c52-0fc9-493e-948a-77449353f83e"
      },
      "outputs": [
        {
          "output_type": "stream",
          "name": "stderr",
          "text": [
            "Downloading...\n",
            "From (original): https://drive.google.com/uc?id=1FomR78IlcqHqNi77fXAJCMgvEebihhF-\n",
            "From (redirected): https://drive.google.com/uc?id=1FomR78IlcqHqNi77fXAJCMgvEebihhF-&confirm=t&uuid=6197f2c9-3083-475d-b8be-8c56d54cd666\n",
            "To: /content/colab_data.zip\n",
            "100%|██████████| 212M/212M [00:03<00:00, 54.9MB/s]\n"
          ]
        },
        {
          "output_type": "stream",
          "name": "stdout",
          "text": [
            "Extracted files and directories: ['.config', 'drive', 'colab_data.zip', '__MACOSX', 'Dataset', 'sample_data']\n"
          ]
        }
      ],
      "source": [
        "# import gdown\n",
        "# import zipfile\n",
        "\n",
        "# # Define the URL of the zip file and the destination directory for download\n",
        "# zip_url = 'https://drive.google.com/uc?id=1FomR78IlcqHqNi77fXAJCMgvEebihhF-'\n",
        "# zip_destination = '/content/colab_data.zip'\n",
        "\n",
        "# # Download the zip file\n",
        "# gdown.download(zip_url, zip_destination, quiet=False)\n",
        "\n",
        "# # Define the directory to extract the contents of the zip file\n",
        "# extract_dir = '/content'\n",
        "\n",
        "# # Create the directory if it doesn't exist\n",
        "# if not os.path.exists(extract_dir):\n",
        "#     os.makedirs(extract_dir)\n",
        "\n",
        "# # Unzip the contents of the zip file\n",
        "# with zipfile.ZipFile(zip_destination, 'r') as zip_ref:\n",
        "#     zip_ref.extractall(extract_dir)\n",
        "\n",
        "# # List the extracted files and directories\n",
        "# extracted_files = os.listdir(extract_dir)\n",
        "# print(\"Extracted files and directories:\", extracted_files)"
      ]
    },
    {
      "cell_type": "code",
      "execution_count": 10,
      "metadata": {
        "id": "yqGV85-RY9wJ"
      },
      "outputs": [],
      "source": [
        "# Define the directory paths\n",
        "image_dir = \"drive/MyDrive/Dataset/images\"\n",
        "mask_dir = \"drive/MyDrive/Dataset/masks\""
      ]
    },
    {
      "cell_type": "code",
      "execution_count": 7,
      "metadata": {
        "id": "2B2KjUVkGMYM"
      },
      "outputs": [],
      "source": [
        "# Initialize lists to store images and masks\n",
        "images = []\n",
        "masks = []\n",
        "\n",
        "# Iterate over image files\n",
        "for file in sorted(os.listdir(image_dir)):\n",
        "    # Read image and resize if necessary\n",
        "    img = Image.open(os.path.join(image_dir, file))\n",
        "    img = img.resize((256, 256))\n",
        "    images.append(np.array(img))\n",
        "\n",
        "# Iterate over mask files\n",
        "for file in sorted(os.listdir(mask_dir)):\n",
        "    # Read mask and resize if necessary\n",
        "    mask = Image.open(os.path.join(mask_dir, file))\n",
        "    mask = mask.resize((256, 256))\n",
        "    masks.append(np.array(mask))"
      ]
    },
    {
      "cell_type": "code",
      "execution_count": 8,
      "metadata": {
        "id": "X7ilDX0CZDmo",
        "colab": {
          "base_uri": "https://localhost:8080/"
        },
        "outputId": "227f6a57-1d58-4aaa-c659-654e2c60e151"
      },
      "outputs": [
        {
          "output_type": "stream",
          "name": "stdout",
          "text": [
            "Image shape: (200, 256, 256, 3)\n",
            "Mask shape: (200, 256, 256)\n"
          ]
        }
      ],
      "source": [
        "# Convert lists to numpy arrays\n",
        "images = np.array(images)\n",
        "masks = np.array(masks)\n",
        "\n",
        "# Check the shapes of the arrays\n",
        "print(\"Image shape:\", images.shape)\n",
        "print(\"Mask shape:\", masks.shape)"
      ]
    },
    {
      "cell_type": "code",
      "execution_count": 9,
      "metadata": {
        "id": "5hAoOYN2_s7l"
      },
      "outputs": [],
      "source": [
        "from datasets import Dataset\n",
        "from PIL import Image\n",
        "\n",
        "# Convert the NumPy arrays to Pillow images and store them in a dictionary\n",
        "dataset_dict = {\n",
        "    \"image\": [Image.fromarray(img) for img in images],\n",
        "    \"label\": [Image.fromarray(mask) for mask in masks],\n",
        "}\n",
        "\n",
        "# Create the dataset using the datasets.Dataset class\n",
        "dataset = Dataset.from_dict(dataset_dict)"
      ]
    },
    {
      "cell_type": "code",
      "execution_count": 12,
      "metadata": {
        "id": "fISBbWMRBfV3",
        "colab": {
          "base_uri": "https://localhost:8080/"
        },
        "outputId": "787720e4-da7b-4223-a197-33fbb3c1fa20"
      },
      "outputs": [
        {
          "output_type": "execute_result",
          "data": {
            "text/plain": [
              "Dataset({\n",
              "    features: ['image', 'label'],\n",
              "    num_rows: 200\n",
              "})"
            ]
          },
          "metadata": {},
          "execution_count": 12
        }
      ],
      "source": [
        "dataset"
      ]
    },
    {
      "cell_type": "code",
      "execution_count": null,
      "metadata": {
        "id": "CAiRRfJhGmVs"
      },
      "outputs": [],
      "source": [
        "img_num = random.randint(0, images.shape[0]-1)\n",
        "example_image = dataset[img_num][\"image\"]\n",
        "example_mask = dataset[img_num][\"label\"]\n",
        "\n",
        "fig, axes = plt.subplots(1, 2, figsize=(10, 5))\n",
        "\n",
        "# Plot the first image on the left\n",
        "axes[0].imshow(np.array(example_image), cmap='gray')\n",
        "axes[0].set_title(\"Image\")\n",
        "\n",
        "# Plot the second image on the right\n",
        "axes[1].imshow(example_mask, cmap='gray')\n",
        "axes[1].set_title(\"Mask\")\n",
        "\n",
        "# Hide axis ticks and labels\n",
        "for ax in axes:\n",
        "    ax.set_xticks([])\n",
        "    ax.set_yticks([])\n",
        "    ax.set_xticklabels([])\n",
        "    ax.set_yticklabels([])\n",
        "\n",
        "# Display the images side by side\n",
        "plt.show()"
      ]
    },
    {
      "cell_type": "code",
      "execution_count": 11,
      "metadata": {
        "id": "LYmrZ9hWCpKV"
      },
      "outputs": [],
      "source": [
        "#Get bounding boxes from mask.\n",
        "def get_bounding_box(ground_truth_map):\n",
        "  # get bounding box from mask\n",
        "  y_indices, x_indices = np.where(ground_truth_map > 0)\n",
        "  x_min, x_max = np.min(x_indices), np.max(x_indices)\n",
        "  y_min, y_max = np.min(y_indices), np.max(y_indices)\n",
        "  # add perturbation to bounding box coordinates\n",
        "  H, W = ground_truth_map.shape\n",
        "  x_min = max(0, x_min - np.random.randint(0, 20))\n",
        "  x_max = min(W, x_max + np.random.randint(0, 20))\n",
        "  y_min = max(0, y_min - np.random.randint(0, 20))\n",
        "  y_max = min(H, y_max + np.random.randint(0, 20))\n",
        "  bbox = [x_min, y_min, x_max, y_max]\n",
        "\n",
        "  return bbox"
      ]
    },
    {
      "cell_type": "code",
      "execution_count": 12,
      "metadata": {
        "id": "dQVNaYYbDKf6"
      },
      "outputs": [],
      "source": [
        "from torch.utils.data import Dataset\n",
        "\n",
        "class SAMDataset(Dataset):\n",
        "  \"\"\"\n",
        "  This class is used to create a dataset that serves input images and masks.\n",
        "  It takes a dataset and a processor as input and overrides the __len__ and __getitem__ methods of the Dataset class.\n",
        "  \"\"\"\n",
        "  def __init__(self, dataset, processor):\n",
        "    self.dataset = dataset\n",
        "    self.processor = processor\n",
        "\n",
        "  def __len__(self):\n",
        "    return len(self.dataset)\n",
        "\n",
        "  def __getitem__(self, idx):\n",
        "    item = self.dataset[idx]\n",
        "    image = item[\"image\"]\n",
        "    ground_truth_mask = np.array(item[\"label\"])\n",
        "\n",
        "    # get bounding box prompt\n",
        "    prompt = get_bounding_box(ground_truth_mask)\n",
        "\n",
        "    # prepare image and prompt for the model\n",
        "    inputs = self.processor(image, input_boxes=[[prompt]], return_tensors=\"pt\")\n",
        "\n",
        "    # remove batch dimension which the processor adds by default\n",
        "    inputs = {k:v.squeeze(0) for k,v in inputs.items()}\n",
        "\n",
        "    # add ground truth segmentation\n",
        "    inputs[\"ground_truth_mask\"] = ground_truth_mask\n",
        "\n",
        "    return inputs"
      ]
    },
    {
      "cell_type": "code",
      "execution_count": 13,
      "metadata": {
        "id": "5IVksPItDOYg",
        "colab": {
          "base_uri": "https://localhost:8080/",
          "height": 205,
          "referenced_widgets": [
            "2cfe46abe56044c9b7747526fa423af6",
            "878dc15a3bc945f1a08ef18ce7552c74",
            "6968bb37edc540b6948cba65b9a738af",
            "2e5212fa757240809dfade2e0543a03a",
            "559389c4914a490ba53e99eab9fa11e8",
            "5ffe40c7ecb64d06ae325af8ca794535",
            "7c63095225e040f4b5e2c0f2782bab61",
            "62584e45fce84dcabfdce47ea028ce90",
            "88fc965ee57a42b3993cc43a89809ec2",
            "f657a8b662bc49878d9a3bd2d4fb942e",
            "b63ba49bf94c4a1dae46105de4d737f4"
          ]
        },
        "outputId": "496580c5-2c5a-409e-b773-26620f130184"
      },
      "outputs": [
        {
          "output_type": "stream",
          "name": "stderr",
          "text": [
            "/usr/local/lib/python3.10/dist-packages/huggingface_hub/file_download.py:1132: FutureWarning: `resume_download` is deprecated and will be removed in version 1.0.0. Downloads always resume when possible. If you want to force a new download, use `force_download=True`.\n",
            "  warnings.warn(\n",
            "/usr/local/lib/python3.10/dist-packages/huggingface_hub/utils/_token.py:89: UserWarning: \n",
            "The secret `HF_TOKEN` does not exist in your Colab secrets.\n",
            "To authenticate with the Hugging Face Hub, create a token in your settings tab (https://huggingface.co/settings/tokens), set it as secret in your Google Colab and restart your session.\n",
            "You will be able to reuse this secret in all of your notebooks.\n",
            "Please note that authentication is recommended but still optional to access public models or datasets.\n",
            "  warnings.warn(\n"
          ]
        },
        {
          "output_type": "display_data",
          "data": {
            "text/plain": [
              "preprocessor_config.json:   0%|          | 0.00/466 [00:00<?, ?B/s]"
            ],
            "application/vnd.jupyter.widget-view+json": {
              "version_major": 2,
              "version_minor": 0,
              "model_id": "2cfe46abe56044c9b7747526fa423af6"
            }
          },
          "metadata": {}
        }
      ],
      "source": [
        "# Initialize the processor\n",
        "from transformers import SamProcessor\n",
        "processor = SamProcessor.from_pretrained(\"facebook/sam-vit-base\")"
      ]
    },
    {
      "cell_type": "code",
      "execution_count": 14,
      "metadata": {
        "id": "aU59Asl5DQCF"
      },
      "outputs": [],
      "source": [
        "# Create an instance of the SAMDataset\n",
        "train_dataset = SAMDataset(dataset=dataset, processor=processor)"
      ]
    },
    {
      "cell_type": "code",
      "execution_count": 15,
      "metadata": {
        "id": "qMUQO3fCDTyV",
        "colab": {
          "base_uri": "https://localhost:8080/"
        },
        "outputId": "ac491ba9-b8cc-4ee1-fcbd-ee6a5d1ff709"
      },
      "outputs": [
        {
          "output_type": "stream",
          "name": "stdout",
          "text": [
            "pixel_values torch.Size([3, 1024, 1024])\n",
            "original_sizes torch.Size([2])\n",
            "reshaped_input_sizes torch.Size([2])\n",
            "input_boxes torch.Size([1, 4])\n",
            "ground_truth_mask (256, 256)\n"
          ]
        }
      ],
      "source": [
        "example = train_dataset[0]\n",
        "for k,v in example.items():\n",
        "  print(k,v.shape)"
      ]
    },
    {
      "cell_type": "code",
      "execution_count": 16,
      "metadata": {
        "id": "G694dS0RDWdl"
      },
      "outputs": [],
      "source": [
        "# Create a DataLoader instance for the training dataset\n",
        "from torch.utils.data import DataLoader\n",
        "train_dataloader = DataLoader(train_dataset, batch_size=2, shuffle=True, drop_last=False)"
      ]
    },
    {
      "cell_type": "code",
      "execution_count": 17,
      "metadata": {
        "id": "oAHAY4LxDYCt",
        "colab": {
          "base_uri": "https://localhost:8080/"
        },
        "outputId": "8a49fb1b-c848-4cc9-e0ab-f79e66be001d"
      },
      "outputs": [
        {
          "output_type": "stream",
          "name": "stdout",
          "text": [
            "pixel_values torch.Size([2, 3, 1024, 1024])\n",
            "original_sizes torch.Size([2, 2])\n",
            "reshaped_input_sizes torch.Size([2, 2])\n",
            "input_boxes torch.Size([2, 1, 4])\n",
            "ground_truth_mask torch.Size([2, 256, 256])\n"
          ]
        }
      ],
      "source": [
        "batch = next(iter(train_dataloader))\n",
        "for k,v in batch.items():\n",
        "  print(k,v.shape)"
      ]
    },
    {
      "cell_type": "code",
      "execution_count": 18,
      "metadata": {
        "id": "l0G55sGADaJ3",
        "colab": {
          "base_uri": "https://localhost:8080/"
        },
        "outputId": "9a90fe65-28b7-4d28-d9e1-c868bbc0bef8"
      },
      "outputs": [
        {
          "output_type": "execute_result",
          "data": {
            "text/plain": [
              "torch.Size([2, 256, 256])"
            ]
          },
          "metadata": {},
          "execution_count": 18
        }
      ],
      "source": [
        "batch[\"ground_truth_mask\"].shape"
      ]
    },
    {
      "cell_type": "code",
      "execution_count": 19,
      "metadata": {
        "id": "7fUTkHq3DcVV",
        "colab": {
          "base_uri": "https://localhost:8080/",
          "height": 81,
          "referenced_widgets": [
            "6fa9e38f918841b5be4be63a8101afe9",
            "48988784433f4b94af5135d24a06dd75",
            "ecbbe4202712441581d3ec9fcd6f1297",
            "58a1a0bf72f948978d51dfcb742cb8e8",
            "0c49b75e55fd4481bc6773723c48bdc5",
            "ef77ff9b7c4c4527b18788cfa4ef7a4b",
            "3a777554bfd5492b85fcde84ed12b190",
            "5fd122385139404c862a84b6fef7b39e",
            "9fac9b9ea8ac4afa89256464422d9879",
            "e73ec8d75bf6494fa92c4d16530f5693",
            "66e6e49f08104db0bf64225676d1871c",
            "8702c7cb55424c8bba399bcb9363b8fb",
            "70479def69aa454b9af18ad98a1b84c6",
            "ae27761b16644db8b488593c5833e303",
            "2ec6dde9614845f4bb034bb7bf844b16",
            "54db07ecda5a407da354594f0e11ad6d",
            "f129f78f8fff434499c89b1bce7b453e",
            "dc2bb856323f41b2905e3054e5277835",
            "a007b1531747463c914bce7484f01177",
            "221873c194be46caa320d0cafce29fb9",
            "1d1bc24552c6463fb90e84b3f45a097e",
            "a34c259a0b2c46f9859a4e75e6118616"
          ]
        },
        "outputId": "a5314dc0-791c-4994-b8e4-d50f88ac751f"
      },
      "outputs": [
        {
          "output_type": "display_data",
          "data": {
            "text/plain": [
              "config.json:   0%|          | 0.00/6.57k [00:00<?, ?B/s]"
            ],
            "application/vnd.jupyter.widget-view+json": {
              "version_major": 2,
              "version_minor": 0,
              "model_id": "6fa9e38f918841b5be4be63a8101afe9"
            }
          },
          "metadata": {}
        },
        {
          "output_type": "display_data",
          "data": {
            "text/plain": [
              "model.safetensors:   0%|          | 0.00/375M [00:00<?, ?B/s]"
            ],
            "application/vnd.jupyter.widget-view+json": {
              "version_major": 2,
              "version_minor": 0,
              "model_id": "8702c7cb55424c8bba399bcb9363b8fb"
            }
          },
          "metadata": {}
        }
      ],
      "source": [
        "from transformers import SamModel\n",
        "\n",
        "# Load the model\n",
        "model = SamModel.from_pretrained(\"facebook/sam-vit-base\")\n",
        "\n",
        "# Ensure the model is properly loaded\n",
        "assert isinstance(model, SamModel), \"Loaded model is not of type SamModel\"\n",
        "\n",
        "# make sure we only compute gradients for mask decoder\n",
        "for name, param in model.named_parameters():\n",
        "  if name.startswith(\"vision_encoder\") or name.startswith(\"prompt_encoder\"):\n",
        "    param.requires_grad_(False)"
      ]
    },
    {
      "cell_type": "code",
      "execution_count": null,
      "metadata": {
        "id": "NUQFybjODebi"
      },
      "outputs": [],
      "source": [
        "from torch.optim import Adam\n",
        "import monai\n",
        "\n",
        "# Initialize the optimizer and the loss function\n",
        "optimizer = Adam(model.mask_decoder.parameters(), lr=1e-5, weight_decay=0)\n",
        "\n",
        "# Try DiceFocalLoss, FocalLoss, DiceCELoss directly from monai\n",
        "seg_loss = monai.losses.DiceCELoss(sigmoid=True, squared_pred=True, reduction='mean')"
      ]
    },
    {
      "cell_type": "code",
      "execution_count": null,
      "metadata": {
        "id": "XbD2PQlPDgFF"
      },
      "outputs": [],
      "source": [
        "from tqdm import tqdm\n",
        "from statistics import mean\n",
        "import torch\n",
        "from torch.nn.functional import threshold, normalize\n",
        "\n",
        "#Training loop\n",
        "num_epochs = 15\n",
        "\n",
        "device = \"cuda\" if torch.cuda.is_available() else \"cpu\"\n",
        "model.to(device)\n",
        "\n",
        "model.train()\n",
        "for epoch in range(num_epochs):\n",
        "  epoch_losses = []\n",
        "  for batch in tqdm(train_dataloader):\n",
        "    # forward pass\n",
        "    outputs = model(pixel_values=batch[\"pixel_values\"].to(device),\n",
        "                    input_boxes=batch[\"input_boxes\"].to(device),\n",
        "                    multimask_output=False)\n",
        "\n",
        "    # compute loss\n",
        "    predicted_masks = outputs.pred_masks.squeeze(1)\n",
        "    ground_truth_masks = batch[\"ground_truth_mask\"].float().to(device)\n",
        "    loss = seg_loss(predicted_masks, ground_truth_masks.unsqueeze(1))\n",
        "\n",
        "    # backward pass (compute gradients of parameters w.r.t. loss)\n",
        "    optimizer.zero_grad()\n",
        "    loss.backward()\n",
        "\n",
        "    # optimize\n",
        "    optimizer.step()\n",
        "    epoch_losses.append(loss.item())\n",
        "\n",
        "  print(f'EPOCH: {epoch}')\n",
        "  print(f'Mean loss: {mean(epoch_losses)}')"
      ]
    },
    {
      "cell_type": "code",
      "execution_count": null,
      "metadata": {
        "id": "7zm89g_tbcdN"
      },
      "outputs": [],
      "source": [
        "# Save the model's state dictionary to a file\n",
        "# torch.save(model.state_dict(), \"/content/drive/MyDrive/skin_model_checkpoint.pth\")"
      ]
    },
    {
      "cell_type": "code",
      "execution_count": 20,
      "metadata": {
        "id": "8XrMxADfcK3F"
      },
      "outputs": [],
      "source": [
        "from transformers import SamModel, SamConfig, SamProcessor\n",
        "import torch"
      ]
    },
    {
      "cell_type": "code",
      "execution_count": 21,
      "metadata": {
        "id": "S_btfQPQcKww",
        "colab": {
          "base_uri": "https://localhost:8080/"
        },
        "outputId": "3587706f-50f5-481f-a184-2bc6458bcb09"
      },
      "outputs": [
        {
          "output_type": "execute_result",
          "data": {
            "text/plain": [
              "<All keys matched successfully>"
            ]
          },
          "metadata": {},
          "execution_count": 21
        }
      ],
      "source": [
        "# Load the model configuration\n",
        "model_config = SamConfig.from_pretrained(\"facebook/sam-vit-base\")\n",
        "processor = SamProcessor.from_pretrained(\"facebook/sam-vit-base\")\n",
        "\n",
        "# Create an instance of the model architecture with the loaded configuration\n",
        "my_skin_model = SamModel(config=model_config)\n",
        "#Update the model by loading the weights from saved file.\n",
        "my_skin_model.load_state_dict(torch.load(\"/content/drive/MyDrive/skin_model_checkpoint.pth\"))"
      ]
    },
    {
      "cell_type": "code",
      "execution_count": 22,
      "metadata": {
        "id": "HCF1o3BVTVic",
        "colab": {
          "base_uri": "https://localhost:8080/"
        },
        "outputId": "d85b5783-7c0f-4746-d46a-f950f82d4cc9"
      },
      "outputs": [
        {
          "output_type": "execute_result",
          "data": {
            "text/plain": [
              "SamModel(\n",
              "  (shared_image_embedding): SamPositionalEmbedding()\n",
              "  (vision_encoder): SamVisionEncoder(\n",
              "    (patch_embed): SamPatchEmbeddings(\n",
              "      (projection): Conv2d(3, 768, kernel_size=(16, 16), stride=(16, 16))\n",
              "    )\n",
              "    (layers): ModuleList(\n",
              "      (0-11): 12 x SamVisionLayer(\n",
              "        (layer_norm1): LayerNorm((768,), eps=1e-06, elementwise_affine=True)\n",
              "        (attn): SamVisionAttention(\n",
              "          (qkv): Linear(in_features=768, out_features=2304, bias=True)\n",
              "          (proj): Linear(in_features=768, out_features=768, bias=True)\n",
              "        )\n",
              "        (layer_norm2): LayerNorm((768,), eps=1e-06, elementwise_affine=True)\n",
              "        (mlp): SamMLPBlock(\n",
              "          (lin1): Linear(in_features=768, out_features=3072, bias=True)\n",
              "          (lin2): Linear(in_features=3072, out_features=768, bias=True)\n",
              "          (act): GELUActivation()\n",
              "        )\n",
              "      )\n",
              "    )\n",
              "    (neck): SamVisionNeck(\n",
              "      (conv1): Conv2d(768, 256, kernel_size=(1, 1), stride=(1, 1), bias=False)\n",
              "      (layer_norm1): SamLayerNorm()\n",
              "      (conv2): Conv2d(256, 256, kernel_size=(3, 3), stride=(1, 1), padding=(1, 1), bias=False)\n",
              "      (layer_norm2): SamLayerNorm()\n",
              "    )\n",
              "  )\n",
              "  (prompt_encoder): SamPromptEncoder(\n",
              "    (shared_embedding): SamPositionalEmbedding()\n",
              "    (mask_embed): SamMaskEmbedding(\n",
              "      (activation): GELUActivation()\n",
              "      (conv1): Conv2d(1, 4, kernel_size=(2, 2), stride=(2, 2))\n",
              "      (conv2): Conv2d(4, 16, kernel_size=(2, 2), stride=(2, 2))\n",
              "      (conv3): Conv2d(16, 256, kernel_size=(1, 1), stride=(1, 1))\n",
              "      (layer_norm1): SamLayerNorm()\n",
              "      (layer_norm2): SamLayerNorm()\n",
              "    )\n",
              "    (no_mask_embed): Embedding(1, 256)\n",
              "    (point_embed): ModuleList(\n",
              "      (0-3): 4 x Embedding(1, 256)\n",
              "    )\n",
              "    (not_a_point_embed): Embedding(1, 256)\n",
              "  )\n",
              "  (mask_decoder): SamMaskDecoder(\n",
              "    (iou_token): Embedding(1, 256)\n",
              "    (mask_tokens): Embedding(4, 256)\n",
              "    (transformer): SamTwoWayTransformer(\n",
              "      (layers): ModuleList(\n",
              "        (0-1): 2 x SamTwoWayAttentionBlock(\n",
              "          (self_attn): SamAttention(\n",
              "            (q_proj): Linear(in_features=256, out_features=256, bias=True)\n",
              "            (k_proj): Linear(in_features=256, out_features=256, bias=True)\n",
              "            (v_proj): Linear(in_features=256, out_features=256, bias=True)\n",
              "            (out_proj): Linear(in_features=256, out_features=256, bias=True)\n",
              "          )\n",
              "          (layer_norm1): LayerNorm((256,), eps=1e-06, elementwise_affine=True)\n",
              "          (cross_attn_token_to_image): SamAttention(\n",
              "            (q_proj): Linear(in_features=256, out_features=128, bias=True)\n",
              "            (k_proj): Linear(in_features=256, out_features=128, bias=True)\n",
              "            (v_proj): Linear(in_features=256, out_features=128, bias=True)\n",
              "            (out_proj): Linear(in_features=128, out_features=256, bias=True)\n",
              "          )\n",
              "          (layer_norm2): LayerNorm((256,), eps=1e-06, elementwise_affine=True)\n",
              "          (mlp): SamMLPBlock(\n",
              "            (lin1): Linear(in_features=256, out_features=2048, bias=True)\n",
              "            (lin2): Linear(in_features=2048, out_features=256, bias=True)\n",
              "            (act): ReLU()\n",
              "          )\n",
              "          (layer_norm3): LayerNorm((256,), eps=1e-06, elementwise_affine=True)\n",
              "          (layer_norm4): LayerNorm((256,), eps=1e-06, elementwise_affine=True)\n",
              "          (cross_attn_image_to_token): SamAttention(\n",
              "            (q_proj): Linear(in_features=256, out_features=128, bias=True)\n",
              "            (k_proj): Linear(in_features=256, out_features=128, bias=True)\n",
              "            (v_proj): Linear(in_features=256, out_features=128, bias=True)\n",
              "            (out_proj): Linear(in_features=128, out_features=256, bias=True)\n",
              "          )\n",
              "        )\n",
              "      )\n",
              "      (final_attn_token_to_image): SamAttention(\n",
              "        (q_proj): Linear(in_features=256, out_features=128, bias=True)\n",
              "        (k_proj): Linear(in_features=256, out_features=128, bias=True)\n",
              "        (v_proj): Linear(in_features=256, out_features=128, bias=True)\n",
              "        (out_proj): Linear(in_features=128, out_features=256, bias=True)\n",
              "      )\n",
              "      (layer_norm_final_attn): LayerNorm((256,), eps=1e-05, elementwise_affine=True)\n",
              "    )\n",
              "    (upscale_conv1): ConvTranspose2d(256, 64, kernel_size=(2, 2), stride=(2, 2))\n",
              "    (upscale_conv2): ConvTranspose2d(64, 32, kernel_size=(2, 2), stride=(2, 2))\n",
              "    (upscale_layer_norm): SamLayerNorm()\n",
              "    (activation): GELU(approximate='none')\n",
              "    (output_hypernetworks_mlps): ModuleList(\n",
              "      (0-3): 4 x SamFeedForward(\n",
              "        (activation): ReLU()\n",
              "        (proj_in): Linear(in_features=256, out_features=256, bias=True)\n",
              "        (proj_out): Linear(in_features=256, out_features=32, bias=True)\n",
              "        (layers): ModuleList(\n",
              "          (0): Linear(in_features=256, out_features=256, bias=True)\n",
              "        )\n",
              "      )\n",
              "    )\n",
              "    (iou_prediction_head): SamFeedForward(\n",
              "      (activation): ReLU()\n",
              "      (proj_in): Linear(in_features=256, out_features=256, bias=True)\n",
              "      (proj_out): Linear(in_features=256, out_features=4, bias=True)\n",
              "      (layers): ModuleList(\n",
              "        (0): Linear(in_features=256, out_features=256, bias=True)\n",
              "      )\n",
              "    )\n",
              "  )\n",
              ")"
            ]
          },
          "metadata": {},
          "execution_count": 22
        }
      ],
      "source": [
        "# set the device to cuda if available, otherwise use cpu\n",
        "device = \"cuda\" if torch.cuda.is_available() else \"cpu\"\n",
        "my_skin_model.to(device)"
      ]
    },
    {
      "cell_type": "code",
      "execution_count": 23,
      "metadata": {
        "id": "c5tPMMIBeBxv",
        "colab": {
          "base_uri": "https://localhost:8080/",
          "height": 401
        },
        "outputId": "9a94f9c3-bd16-4086-8c7b-23723cac950d"
      },
      "outputs": [
        {
          "output_type": "display_data",
          "data": {
            "text/plain": [
              "<Figure size 1500x500 with 3 Axes>"
            ],
            "image/png": "[encoded data removed]"
          },
          "metadata": {}
        }
      ],
      "source": [
        "import numpy as np\n",
        "import random\n",
        "import torch\n",
        "import matplotlib.pyplot as plt\n",
        "\n",
        "# let's take a random training example\n",
        "idx = random.randint(0, images.shape[0]-1)\n",
        "\n",
        "# load image\n",
        "test_image = dataset[idx][\"image\"]\n",
        "\n",
        "# get box prompt based on ground truth segmentation map\n",
        "ground_truth_mask = np.array(dataset[idx][\"label\"])\n",
        "prompt = get_bounding_box(ground_truth_mask)\n",
        "\n",
        "# prepare image + box prompt for the model\n",
        "inputs = processor(test_image, input_boxes=[[prompt]], return_tensors=\"pt\")\n",
        "\n",
        "# Move the input tensor to the GPU if it's not already there\n",
        "inputs = {k: v.to(device) for k, v in inputs.items()}\n",
        "\n",
        "my_skin_model.eval()\n",
        "\n",
        "# forward pass\n",
        "with torch.no_grad():\n",
        "    outputs = my_skin_model(**inputs, multimask_output=False)\n",
        "\n",
        "# apply sigmoid\n",
        "medsam_seg_prob = torch.sigmoid(outputs.pred_masks.squeeze(1))\n",
        "# convert soft mask to hard mask\n",
        "medsam_seg_prob = medsam_seg_prob.cpu().numpy().squeeze()\n",
        "medsam_seg = (medsam_seg_prob > 0.5).astype(np.uint8)\n",
        "\n",
        "\n",
        "fig, axes = plt.subplots(1, 3, figsize=(15, 5))\n",
        "\n",
        "# Plot the first image on the left\n",
        "axes[0].imshow(np.array(test_image), cmap='gray')  # Assuming the first image is grayscale\n",
        "axes[0].set_title(\"Image\")\n",
        "\n",
        "# Plot the second image on the right\n",
        "axes[1].imshow(medsam_seg, cmap='gray')  # Assuming the second image is grayscale\n",
        "axes[1].set_title(\"Mask\")\n",
        "\n",
        "# Plot the second image on the right\n",
        "axes[2].imshow(medsam_seg_prob)  # Assuming the second image is grayscale\n",
        "axes[2].set_title(\"Probability Map\")\n",
        "\n",
        "# Hide axis ticks and labels\n",
        "for ax in axes:\n",
        "    ax.set_xticks([])\n",
        "    ax.set_yticks([])\n",
        "    ax.set_xticklabels([])\n",
        "    ax.set_yticklabels([])\n",
        "\n",
        "# Display the images side by side\n",
        "plt.show()"
      ]
    },
    {
      "cell_type": "code",
      "execution_count": null,
      "metadata": {
        "id": "LjzkvN07fiXN"
      },
      "outputs": [],
      "source": [
        "\"\"\"\n",
        "input_points (torch.FloatTensor of shape (batch_size, num_points, 2)) —\n",
        "Input 2D spatial points, this is used by the prompt encoder to encode the prompt.\n",
        "Generally yields to much better results. The points can be obtained by passing a\n",
        "list of list of list to the processor that will create corresponding torch tensors\n",
        "of dimension 4. The first dimension is the image batch size, the second dimension\n",
        "is the point batch size (i.e. how many segmentation masks do we want the model to\n",
        "predict per input point), the third dimension is the number of points per segmentation\n",
        "mask (it is possible to pass multiple points for a single mask), and the last dimension\n",
        "is the x (vertical) and y (horizontal) coordinates of the point. If a different number\n",
        "of points is passed either for each image, or for each mask, the processor will create\n",
        "“PAD” points that will correspond to the (0, 0) coordinate, and the computation of the\n",
        "embedding will be skipped for these points using the labels.\n",
        "\n",
        "\"\"\"\n",
        "# Define the size of your array\n",
        "array_size = 256\n",
        "\n",
        "# Define the size of your grid\n",
        "grid_size = 10\n",
        "\n",
        "# Generate the grid points\n",
        "x = np.linspace(0, array_size-1, grid_size)\n",
        "y = np.linspace(0, array_size-1, grid_size)\n",
        "\n",
        "# Generate a grid of coordinates\n",
        "xv, yv = np.meshgrid(x, y)\n",
        "\n",
        "# Convert the numpy arrays to lists\n",
        "xv_list = xv.tolist()\n",
        "yv_list = yv.tolist()\n",
        "\n",
        "# Combine the x and y coordinates into a list of list of lists\n",
        "input_points = [[[int(x), int(y)] for x, y in zip(x_row, y_row)] for x_row, y_row in zip(xv_list, yv_list)]\n",
        "\n",
        "#We need to reshape our nxn grid to the expected shape of the input_points tensor\n",
        "# (batch_size, point_batch_size, num_points_per_image, 2),\n",
        "# where the last dimension of 2 represents the x and y coordinates of each point.\n",
        "#batch_size: The number of images you're processing at once.\n",
        "#point_batch_size: The number of point sets you have for each image.\n",
        "#num_points_per_image: The number of points in each set.\n",
        "input_points = torch.tensor(input_points).view(1, 1, grid_size*grid_size, 2)"
      ]
    },
    {
      "cell_type": "code",
      "execution_count": null,
      "metadata": {
        "id": "bklL6QTjfmke"
      },
      "outputs": [],
      "source": [
        "print(np.array(input_points).shape)"
      ]
    },
    {
      "cell_type": "code",
      "source": [
        "# # Create a directory to store the segmentation results if it doesn't exist\n",
        "# result_dir = \"/content/result\"\n",
        "# if not os.path.exists(result_dir):\n",
        "#     os.makedirs(result_dir)\n",
        "\n",
        "# # Iterate through all images in the dataset\n",
        "# for idx, sample in enumerate(dataset):\n",
        "#     # Load image\n",
        "#     test_image = sample[\"image\"]\n",
        "\n",
        "#     # Get box prompt based on ground truth segmentation map\n",
        "#     ground_truth_mask = np.array(sample[\"label\"])\n",
        "#     prompt = get_bounding_box(ground_truth_mask)\n",
        "\n",
        "#     # Prepare image + box prompt for the model\n",
        "#     inputs = processor(test_image, input_boxes=[[prompt]], return_tensors=\"pt\")\n",
        "#     inputs = {k: v.to(device) for k, v in inputs.items()}\n",
        "\n",
        "#     # Forward pass\n",
        "#     with torch.no_grad():\n",
        "#         outputs = my_skin_model(**inputs, multimask_output=False)\n",
        "\n",
        "#     # Apply sigmoid\n",
        "#     medsam_seg_prob = torch.sigmoid(outputs.pred_masks.squeeze(1))\n",
        "#     medsam_seg_prob = medsam_seg_prob.cpu().numpy().squeeze()\n",
        "\n",
        "#     # Thresholding\n",
        "#     threshold_value = 0.5  # Adjust threshold value if necessary\n",
        "#     medsam_seg = (medsam_seg_prob > threshold_value).astype(np.uint8)\n",
        "\n",
        "#     # Save segmentation result\n",
        "#     image_name = f\"segmentation_result_{idx}.bmp\"\n",
        "#     image_path = os.path.join(result_dir, image_name)\n",
        "#     imageio.imwrite(image_path, medsam_seg * 255)  # Scale the mask values to [0, 255]"
      ],
      "metadata": {
        "id": "SZrrXSmdBss4"
      },
      "execution_count": null,
      "outputs": []
    },
    {
      "cell_type": "markdown",
      "source": [
        "##Evaluation"
      ],
      "metadata": {
        "id": "KbLHHA_zjrgR"
      }
    },
    {
      "cell_type": "markdown",
      "source": [
        "- **Jaccard Score (IoU)**: Measures the intersection over union between two sets, representing the overlap between predicted and ground truth masks. It ranges from 0 to 1, with 1 indicating perfect overlap.\n",
        "\n",
        "- **Dice Coefficient**: Quantifies the agreement between two sets by computing twice the intersection divided by the sum of their sizes. It also ranges from 0 to 1, with 1 indicating perfect agreement.\n",
        "\n",
        "Both metrics are commonly used to evaluate segmentation tasks, with higher scores indicating better performance."
      ],
      "metadata": {
        "id": "bubmR4w0w2HD"
      }
    },
    {
      "cell_type": "code",
      "source": [
        "import numpy as np\n",
        "\n",
        "# Define an empty list to store predicted masks\n",
        "predicted_masks = []\n",
        "\n",
        "# Iterate through all images in the dataset\n",
        "for idx, sample in enumerate(dataset):\n",
        "    # Load image\n",
        "    test_image = sample[\"image\"]\n",
        "\n",
        "    # Get box prompt based on ground truth segmentation map\n",
        "    ground_truth_mask = np.array(sample[\"label\"])\n",
        "    prompt = get_bounding_box(ground_truth_mask)\n",
        "\n",
        "    # Prepare image + box prompt for the model\n",
        "    inputs = processor(test_image, input_boxes=[[prompt]], return_tensors=\"pt\")\n",
        "    inputs = {k: v.to(device) for k, v in inputs.items()}\n",
        "\n",
        "    # Forward pass\n",
        "    with torch.no_grad():\n",
        "        outputs = my_skin_model(**inputs, multimask_output=False)\n",
        "\n",
        "    # Apply sigmoid\n",
        "    medsam_seg_prob = torch.sigmoid(outputs.pred_masks.squeeze(1))\n",
        "    medsam_seg_prob = medsam_seg_prob.cpu().numpy().squeeze()\n",
        "\n",
        "    # Thresholding\n",
        "    threshold_value = 0.5  # Adjust threshold value if necessary\n",
        "    medsam_seg = (medsam_seg_prob > threshold_value).astype(np.uint8)\n",
        "\n",
        "    # Append the predicted mask to the list\n",
        "    predicted_masks.append(medsam_seg)\n",
        "\n",
        "# Check the length of the predicted_masks list\n",
        "print(\"Number of predicted masks:\", len(predicted_masks))"
      ],
      "metadata": {
        "colab": {
          "base_uri": "https://localhost:8080/"
        },
        "id": "D_SRXqqhtueq",
        "outputId": "0516ca2c-d56f-41e4-cf3e-fe4e9bdd7151"
      },
      "execution_count": 26,
      "outputs": [
        {
          "output_type": "stream",
          "name": "stdout",
          "text": [
            "Number of predicted masks: 200\n"
          ]
        }
      ]
    },
    {
      "cell_type": "code",
      "source": [
        "def dice_coefficient(y_true, y_pred):\n",
        "    \"\"\"\n",
        "    This function computes the Dice coefficient between two binary masks.\n",
        "\n",
        "    Args:\n",
        "        y_true: Ground truth mask (2D array).\n",
        "        y_pred: Predicted mask (2D array).\n",
        "\n",
        "    Returns:\n",
        "        Dice coefficient (float).\n",
        "    \"\"\"\n",
        "    smooth = 1e-5  # To avoid division by zero\n",
        "    # Ensure inputs are binary arrays\n",
        "    y_true = y_true.astype(bool)\n",
        "    y_pred = y_pred.astype(bool)\n",
        "    # Calculate intersection\n",
        "    intersection = np.sum(y_true & y_pred)\n",
        "    # Calculate union\n",
        "    union = np.sum(y_true) + np.sum(y_pred)\n",
        "    # Calculate Dice coefficient\n",
        "    dice = (2.0 * intersection + smooth) / (union + smooth)\n",
        "    return dice"
      ],
      "metadata": {
        "id": "9TuVetmrjKou"
      },
      "execution_count": 27,
      "outputs": []
    },
    {
      "cell_type": "code",
      "source": [
        "def load_predicted_mask(idx):\n",
        "    \"\"\"\n",
        "    This function loads the predicted mask based on the index 'idx' from the 'predicted_masks' list.\n",
        "\n",
        "    Args:\n",
        "        idx (int): Index of the predicted mask to load.\n",
        "\n",
        "    Returns:\n",
        "        numpy.ndarray: The predicted mask corresponding to the given index.\n",
        "    \"\"\"\n",
        "    # Access the predicted mask from the 'predicted_masks' list\n",
        "    predicted_mask = predicted_masks[idx]\n",
        "    return predicted_mask"
      ],
      "metadata": {
        "id": "P4nWUAF-tKgs"
      },
      "execution_count": 28,
      "outputs": []
    },
    {
      "cell_type": "code",
      "source": [
        "from sklearn.metrics import jaccard_score\n",
        "\n",
        "# Define lists to store evaluation metrics\n",
        "jaccard_scores = []\n",
        "dice_scores = []\n",
        "\n",
        "# Iterate through all images in the dataset\n",
        "for idx, sample in enumerate(dataset):\n",
        "    # Load ground truth mask\n",
        "    ground_truth_mask = np.array(sample[\"label\"])\n",
        "\n",
        "    # Load predicted mask (assuming you have a function to load it)\n",
        "    predicted_mask = load_predicted_mask(idx)\n",
        "\n",
        "    # Flatten the masks for evaluation\n",
        "    ground_truth_mask_flat = ground_truth_mask.flatten()\n",
        "    predicted_mask_flat = predicted_mask.flatten()\n",
        "\n",
        "    # Compute Jaccard score (Intersection over Union)\n",
        "    jaccard_score_ = jaccard_score(ground_truth_mask_flat, predicted_mask_flat)\n",
        "    jaccard_scores.append(jaccard_score_)\n",
        "\n",
        "    # Compute Dice coefficient (using the implemented function)\n",
        "    dice_score_ = dice_coefficient(ground_truth_mask_flat, predicted_mask_flat)\n",
        "    dice_scores.append(dice_score_)\n",
        "\n",
        "# Calculate mean scores\n",
        "mean_jaccard_score = np.mean(jaccard_scores)\n",
        "mean_dice_score = np.mean(dice_scores)\n",
        "\n",
        "print(f\"Mean Jaccard Score: {mean_jaccard_score:.4f}\")\n",
        "print(f\"Mean Dice Score: {mean_dice_score:.4f}\")"
      ],
      "metadata": {
        "colab": {
          "base_uri": "https://localhost:8080/"
        },
        "id": "AeD4HWYws87F",
        "outputId": "ded5e0a2-1bf3-43d4-c16d-1d4699f26e12"
      },
      "execution_count": 29,
      "outputs": [
        {
          "output_type": "stream",
          "name": "stdout",
          "text": [
            "Mean Jaccard Score: 0.9156\n",
            "Mean Dice Score: 0.9553\n"
          ]
        }
      ]
    },
    {
      "cell_type": "code",
      "source": [
        "import sklearn.metrics as skm\n",
        "import time\n",
        "\n",
        "def evaluate(model, dataset, device):\n",
        "    jaccard_scores = []\n",
        "    dice_scores = []\n",
        "    total_pixels = 0\n",
        "    total_inference_time = 0\n",
        "    model.eval()\n",
        "\n",
        "    with torch.no_grad():\n",
        "        for idx, sample in enumerate(dataset):\n",
        "            start_time = time.time()\n",
        "            test_image = sample[\"image\"]\n",
        "            ground_truth_mask = np.array(sample[\"label\"])\n",
        "            prompt = get_bounding_box(ground_truth_mask)  # Replace with your bounding box function\n",
        "            inputs = processor(test_image, input_boxes=[[prompt]], return_tensors=\"pt\")  # Replace with your input processing\n",
        "            inputs = {k: v.to(device) for k, v in inputs.items()}\n",
        "            outputs = model(**inputs, multimask_output=False)\n",
        "            medsam_seg_prob = torch.sigmoid(outputs.pred_masks.squeeze(1))\n",
        "            medsam_seg_prob = medsam_seg_prob.cpu().numpy().squeeze()\n",
        "            threshold_value = 0.5\n",
        "            medsam_seg = (medsam_seg_prob > threshold_value).astype(np.uint8)\n",
        "            end_time = time.time()\n",
        "            inference_time = end_time - start_time\n",
        "            total_inference_time += inference_time\n",
        "            ground_truth_mask_flat = ground_truth_mask.flatten()\n",
        "            predicted_mask_flat = medsam_seg.flatten()\n",
        "            total_pixels += ground_truth_mask.size\n",
        "\n",
        "            # Calculate additional metrics\n",
        "            tn, fp, fn, tp = skm.confusion_matrix(ground_truth_mask_flat, predicted_mask_flat).ravel()\n",
        "            accuracy = (tp + tn) / (tp + tn + fp + fn)\n",
        "            recall = tp / (tp + fn)\n",
        "            precision = tp / (tp + fp)\n",
        "            f1_score = 2 * (precision * recall) / (precision + recall)\n",
        "\n",
        "            jaccard_scores.append(jaccard_score(ground_truth_mask_flat, predicted_mask_flat))\n",
        "            dice_scores.append(dice_coefficient(ground_truth_mask_flat, predicted_mask_flat))\n",
        "\n",
        "    mean_jaccard_score = np.mean(jaccard_scores)\n",
        "    mean_dice_score = np.mean(dice_scores)\n",
        "    mean_accuracy = np.mean([accuracy])\n",
        "    mean_recall = np.mean([recall])\n",
        "    mean_f1_score = np.mean([f1_score])\n",
        "\n",
        "    # Calculate total number of inferences\n",
        "    total_inferences = len(dataset)\n",
        "\n",
        "    # FLOPs calculation (replace with your model specific method)\n",
        "    # This section needs to be implemented based on your model architecture\n",
        "    # flops = calculate_model_flops(model)  # Replace with your implementation\n",
        "\n",
        "\n",
        "\n",
        "    print(f\"Mean Jaccard Score: {mean_jaccard_score:.4f}\")\n",
        "    print(f\"Mean Dice Score: {mean_dice_score:.4f}\")\n",
        "    print(f\"Mean Accuracy: {mean_accuracy:.4f}\")\n",
        "    print(f\"Mean Recall: {mean_recall:.4f}\")\n",
        "    print(f\"Mean F1 Score: {mean_f1_score:.4f}\")\n",
        "    print(f\"Total Inferences: {total_inferences}\")\n",
        "    print(f\"Total Inference Time: {total_inference_time:.4f} seconds\")\n",
        "    # print(f\"FLOPs: {flops}\")\n",
        "\n",
        "evaluate(my_skin_model, dataset, device)"
      ],
      "metadata": {
        "colab": {
          "base_uri": "https://localhost:8080/"
        },
        "id": "6yw-SjSH78Oc",
        "outputId": "de26b2f2-4826-42c3-abe6-eb88448329f1"
      },
      "execution_count": 32,
      "outputs": [
        {
          "output_type": "stream",
          "name": "stdout",
          "text": [
            "Mean Jaccard Score: 0.9160\n",
            "Mean Dice Score: 0.9556\n",
            "Mean Accuracy: 0.9810\n",
            "Mean Recall: 0.9948\n",
            "Mean F1 Score: 0.9810\n"
          ]
        }
      ]
    },
    {
      "cell_type": "code",
      "source": [
        "from thop import profile"
      ],
      "metadata": {
        "id": "8ztRBWAubZYg"
      },
      "execution_count": null,
      "outputs": []
    },
    {
      "cell_type": "code",
      "source": [
        "try:\n",
        "  from thop import profile\n",
        "except:\n",
        "  !pip install thop\n",
        "  from thop import profile\n",
        "\n",
        "# Assuming 'my_segmentation_model' is your segmentation model\n",
        "model = my_skin_model.to(device)\n",
        "\n",
        "# Create actual input data (adjust the shape as needed)\n",
        "input_data = torch.randn(1, 3, 1024, 1024).to(device)  # Example: RGB image with 1024x1024 resolution\n",
        "\n",
        "# Calculate FLOPs and parameters\n",
        "flops, params = profile(model, inputs=(input_data,))\n",
        "\n",
        "print(f\"Total FLOPs: {flops / 1e9:.2f} GFLOPs\")\n",
        "print(f\"Total Parameters: {params / 1e6:.2f} MParams\")"
      ],
      "metadata": {
        "colab": {
          "base_uri": "https://localhost:8080/"
        },
        "id": "4rgsHgAoYG4v",
        "outputId": "b504889b-f30b-4de9-ed32-de22a5ab07ca"
      },
      "execution_count": 72,
      "outputs": [
        {
          "output_type": "stream",
          "name": "stdout",
          "text": [
            "[INFO] Register count_convNd() for <class 'torch.nn.modules.conv.Conv2d'>.\n",
            "[INFO] Register count_normalization() for <class 'torch.nn.modules.normalization.LayerNorm'>.\n",
            "[INFO] Register count_linear() for <class 'torch.nn.modules.linear.Linear'>.\n",
            "[INFO] Register zero_ops() for <class 'torch.nn.modules.activation.ReLU'>.\n",
            "[INFO] Register count_convNd() for <class 'torch.nn.modules.conv.ConvTranspose2d'>.\n",
            "Total FLOPs: 2603.88 GFLOPs\n",
            "Total Parameters: 90.49 MParams\n"
          ]
        }
      ]
    }
  ],
  "metadata": {
    "colab": {
      "provenance": [],
      "gpuType": "T4",
      "include_colab_link": true
    },
    "kernelspec": {
      "display_name": "Python 3",
      "name": "python3"
    },
    "language_info": {
      "name": "python"
    },
    "accelerator": "GPU",
    "widgets": {
      "application/vnd.jupyter.widget-state+json": {
        "2cfe46abe56044c9b7747526fa423af6": {
          "model_module": "@jupyter-widgets/controls",
          "model_name": "HBoxModel",
          "model_module_version": "1.5.0",
          "state": {
            "_dom_classes": [],
            "_model_module": "@jupyter-widgets/controls",
            "_model_module_version": "1.5.0",
            "_model_name": "HBoxModel",
            "_view_count": null,
            "_view_module": "@jupyter-widgets/controls",
            "_view_module_version": "1.5.0",
            "_view_name": "HBoxView",
            "box_style": "",
            "children": [
              "IPY_MODEL_878dc15a3bc945f1a08ef18ce7552c74",
              "IPY_MODEL_6968bb37edc540b6948cba65b9a738af",
              "IPY_MODEL_2e5212fa757240809dfade2e0543a03a"
            ],
            "layout": "IPY_MODEL_559389c4914a490ba53e99eab9fa11e8"
          }
        },
        "878dc15a3bc945f1a08ef18ce7552c74": {
          "model_module": "@jupyter-widgets/controls",
          "model_name": "HTMLModel",
          "model_module_version": "1.5.0",
          "state": {
            "_dom_classes": [],
            "_model_module": "@jupyter-widgets/controls",
            "_model_module_version": "1.5.0",
            "_model_name": "HTMLModel",
            "_view_count": null,
            "_view_module": "@jupyter-widgets/controls",
            "_view_module_version": "1.5.0",
            "_view_name": "HTMLView",
            "description": "",
            "description_tooltip": null,
            "layout": "IPY_MODEL_5ffe40c7ecb64d06ae325af8ca794535",
            "placeholder": "​",
            "style": "IPY_MODEL_7c63095225e040f4b5e2c0f2782bab61",
            "value": "preprocessor_config.json: 100%"
          }
        },
        "6968bb37edc540b6948cba65b9a738af": {
          "model_module": "@jupyter-widgets/controls",
          "model_name": "FloatProgressModel",
          "model_module_version": "1.5.0",
          "state": {
            "_dom_classes": [],
            "_model_module": "@jupyter-widgets/controls",
            "_model_module_version": "1.5.0",
            "_model_name": "FloatProgressModel",
            "_view_count": null,
            "_view_module": "@jupyter-widgets/controls",
            "_view_module_version": "1.5.0",
            "_view_name": "ProgressView",
            "bar_style": "success",
            "description": "",
            "description_tooltip": null,
            "layout": "IPY_MODEL_62584e45fce84dcabfdce47ea028ce90",
            "max": 466,
            "min": 0,
            "orientation": "horizontal",
            "style": "IPY_MODEL_88fc965ee57a42b3993cc43a89809ec2",
            "value": 466
          }
        },
        "2e5212fa757240809dfade2e0543a03a": {
          "model_module": "@jupyter-widgets/controls",
          "model_name": "HTMLModel",
          "model_module_version": "1.5.0",
          "state": {
            "_dom_classes": [],
            "_model_module": "@jupyter-widgets/controls",
            "_model_module_version": "1.5.0",
            "_model_name": "HTMLModel",
            "_view_count": null,
            "_view_module": "@jupyter-widgets/controls",
            "_view_module_version": "1.5.0",
            "_view_name": "HTMLView",
            "description": "",
            "description_tooltip": null,
            "layout": "IPY_MODEL_f657a8b662bc49878d9a3bd2d4fb942e",
            "placeholder": "​",
            "style": "IPY_MODEL_b63ba49bf94c4a1dae46105de4d737f4",
            "value": " 466/466 [00:00&lt;00:00, 20.1kB/s]"
          }
        },
        "559389c4914a490ba53e99eab9fa11e8": {
          "model_module": "@jupyter-widgets/base",
          "model_name": "LayoutModel",
          "model_module_version": "1.2.0",
          "state": {
            "_model_module": "@jupyter-widgets/base",
            "_model_module_version": "1.2.0",
            "_model_name": "LayoutModel",
            "_view_count": null,
            "_view_module": "@jupyter-widgets/base",
            "_view_module_version": "1.2.0",
            "_view_name": "LayoutView",
            "align_content": null,
            "align_items": null,
            "align_self": null,
            "border": null,
            "bottom": null,
            "display": null,
            "flex": null,
            "flex_flow": null,
            "grid_area": null,
            "grid_auto_columns": null,
            "grid_auto_flow": null,
            "grid_auto_rows": null,
            "grid_column": null,
            "grid_gap": null,
            "grid_row": null,
            "grid_template_areas": null,
            "grid_template_columns": null,
            "grid_template_rows": null,
            "height": null,
            "justify_content": null,
            "justify_items": null,
            "left": null,
            "margin": null,
            "max_height": null,
            "max_width": null,
            "min_height": null,
            "min_width": null,
            "object_fit": null,
            "object_position": null,
            "order": null,
            "overflow": null,
            "overflow_x": null,
            "overflow_y": null,
            "padding": null,
            "right": null,
            "top": null,
            "visibility": null,
            "width": null
          }
        },
        "5ffe40c7ecb64d06ae325af8ca794535": {
          "model_module": "@jupyter-widgets/base",
          "model_name": "LayoutModel",
          "model_module_version": "1.2.0",
          "state": {
            "_model_module": "@jupyter-widgets/base",
            "_model_module_version": "1.2.0",
            "_model_name": "LayoutModel",
            "_view_count": null,
            "_view_module": "@jupyter-widgets/base",
            "_view_module_version": "1.2.0",
            "_view_name": "LayoutView",
            "align_content": null,
            "align_items": null,
            "align_self": null,
            "border": null,
            "bottom": null,
            "display": null,
            "flex": null,
            "flex_flow": null,
            "grid_area": null,
            "grid_auto_columns": null,
            "grid_auto_flow": null,
            "grid_auto_rows": null,
            "grid_column": null,
            "grid_gap": null,
            "grid_row": null,
            "grid_template_areas": null,
            "grid_template_columns": null,
            "grid_template_rows": null,
            "height": null,
            "justify_content": null,
            "justify_items": null,
            "left": null,
            "margin": null,
            "max_height": null,
            "max_width": null,
            "min_height": null,
            "min_width": null,
            "object_fit": null,
            "object_position": null,
            "order": null,
            "overflow": null,
            "overflow_x": null,
            "overflow_y": null,
            "padding": null,
            "right": null,
            "top": null,
            "visibility": null,
            "width": null
          }
        },
        "7c63095225e040f4b5e2c0f2782bab61": {
          "model_module": "@jupyter-widgets/controls",
          "model_name": "DescriptionStyleModel",
          "model_module_version": "1.5.0",
          "state": {
            "_model_module": "@jupyter-widgets/controls",
            "_model_module_version": "1.5.0",
            "_model_name": "DescriptionStyleModel",
            "_view_count": null,
            "_view_module": "@jupyter-widgets/base",
            "_view_module_version": "1.2.0",
            "_view_name": "StyleView",
            "description_width": ""
          }
        },
        "62584e45fce84dcabfdce47ea028ce90": {
          "model_module": "@jupyter-widgets/base",
          "model_name": "LayoutModel",
          "model_module_version": "1.2.0",
          "state": {
            "_model_module": "@jupyter-widgets/base",
            "_model_module_version": "1.2.0",
            "_model_name": "LayoutModel",
            "_view_count": null,
            "_view_module": "@jupyter-widgets/base",
            "_view_module_version": "1.2.0",
            "_view_name": "LayoutView",
            "align_content": null,
            "align_items": null,
            "align_self": null,
            "border": null,
            "bottom": null,
            "display": null,
            "flex": null,
            "flex_flow": null,
            "grid_area": null,
            "grid_auto_columns": null,
            "grid_auto_flow": null,
            "grid_auto_rows": null,
            "grid_column": null,
            "grid_gap": null,
            "grid_row": null,
            "grid_template_areas": null,
            "grid_template_columns": null,
            "grid_template_rows": null,
            "height": null,
            "justify_content": null,
            "justify_items": null,
            "left": null,
            "margin": null,
            "max_height": null,
            "max_width": null,
            "min_height": null,
            "min_width": null,
            "object_fit": null,
            "object_position": null,
            "order": null,
            "overflow": null,
            "overflow_x": null,
            "overflow_y": null,
            "padding": null,
            "right": null,
            "top": null,
            "visibility": null,
            "width": null
          }
        },
        "88fc965ee57a42b3993cc43a89809ec2": {
          "model_module": "@jupyter-widgets/controls",
          "model_name": "ProgressStyleModel",
          "model_module_version": "1.5.0",
          "state": {
            "_model_module": "@jupyter-widgets/controls",
            "_model_module_version": "1.5.0",
            "_model_name": "ProgressStyleModel",
            "_view_count": null,
            "_view_module": "@jupyter-widgets/base",
            "_view_module_version": "1.2.0",
            "_view_name": "StyleView",
            "bar_color": null,
            "description_width": ""
          }
        },
        "f657a8b662bc49878d9a3bd2d4fb942e": {
          "model_module": "@jupyter-widgets/base",
          "model_name": "LayoutModel",
          "model_module_version": "1.2.0",
          "state": {
            "_model_module": "@jupyter-widgets/base",
            "_model_module_version": "1.2.0",
            "_model_name": "LayoutModel",
            "_view_count": null,
            "_view_module": "@jupyter-widgets/base",
            "_view_module_version": "1.2.0",
            "_view_name": "LayoutView",
            "align_content": null,
            "align_items": null,
            "align_self": null,
            "border": null,
            "bottom": null,
            "display": null,
            "flex": null,
            "flex_flow": null,
            "grid_area": null,
            "grid_auto_columns": null,
            "grid_auto_flow": null,
            "grid_auto_rows": null,
            "grid_column": null,
            "grid_gap": null,
            "grid_row": null,
            "grid_template_areas": null,
            "grid_template_columns": null,
            "grid_template_rows": null,
            "height": null,
            "justify_content": null,
            "justify_items": null,
            "left": null,
            "margin": null,
            "max_height": null,
            "max_width": null,
            "min_height": null,
            "min_width": null,
            "object_fit": null,
            "object_position": null,
            "order": null,
            "overflow": null,
            "overflow_x": null,
            "overflow_y": null,
            "padding": null,
            "right": null,
            "top": null,
            "visibility": null,
            "width": null
          }
        },
        "b63ba49bf94c4a1dae46105de4d737f4": {
          "model_module": "@jupyter-widgets/controls",
          "model_name": "DescriptionStyleModel",
          "model_module_version": "1.5.0",
          "state": {
            "_model_module": "@jupyter-widgets/controls",
            "_model_module_version": "1.5.0",
            "_model_name": "DescriptionStyleModel",
            "_view_count": null,
            "_view_module": "@jupyter-widgets/base",
            "_view_module_version": "1.2.0",
            "_view_name": "StyleView",
            "description_width": ""
          }
        },
        "6fa9e38f918841b5be4be63a8101afe9": {
          "model_module": "@jupyter-widgets/controls",
          "model_name": "HBoxModel",
          "model_module_version": "1.5.0",
          "state": {
            "_dom_classes": [],
            "_model_module": "@jupyter-widgets/controls",
            "_model_module_version": "1.5.0",
            "_model_name": "HBoxModel",
            "_view_count": null,
            "_view_module": "@jupyter-widgets/controls",
            "_view_module_version": "1.5.0",
            "_view_name": "HBoxView",
            "box_style": "",
            "children": [
              "IPY_MODEL_48988784433f4b94af5135d24a06dd75",
              "IPY_MODEL_ecbbe4202712441581d3ec9fcd6f1297",
              "IPY_MODEL_58a1a0bf72f948978d51dfcb742cb8e8"
            ],
            "layout": "IPY_MODEL_0c49b75e55fd4481bc6773723c48bdc5"
          }
        },
        "48988784433f4b94af5135d24a06dd75": {
          "model_module": "@jupyter-widgets/controls",
          "model_name": "HTMLModel",
          "model_module_version": "1.5.0",
          "state": {
            "_dom_classes": [],
            "_model_module": "@jupyter-widgets/controls",
            "_model_module_version": "1.5.0",
            "_model_name": "HTMLModel",
            "_view_count": null,
            "_view_module": "@jupyter-widgets/controls",
            "_view_module_version": "1.5.0",
            "_view_name": "HTMLView",
            "description": "",
            "description_tooltip": null,
            "layout": "IPY_MODEL_ef77ff9b7c4c4527b18788cfa4ef7a4b",
            "placeholder": "​",
            "style": "IPY_MODEL_3a777554bfd5492b85fcde84ed12b190",
            "value": "config.json: 100%"
          }
        },
        "ecbbe4202712441581d3ec9fcd6f1297": {
          "model_module": "@jupyter-widgets/controls",
          "model_name": "FloatProgressModel",
          "model_module_version": "1.5.0",
          "state": {
            "_dom_classes": [],
            "_model_module": "@jupyter-widgets/controls",
            "_model_module_version": "1.5.0",
            "_model_name": "FloatProgressModel",
            "_view_count": null,
            "_view_module": "@jupyter-widgets/controls",
            "_view_module_version": "1.5.0",
            "_view_name": "ProgressView",
            "bar_style": "success",
            "description": "",
            "description_tooltip": null,
            "layout": "IPY_MODEL_5fd122385139404c862a84b6fef7b39e",
            "max": 6566,
            "min": 0,
            "orientation": "horizontal",
            "style": "IPY_MODEL_9fac9b9ea8ac4afa89256464422d9879",
            "value": 6566
          }
        },
        "58a1a0bf72f948978d51dfcb742cb8e8": {
          "model_module": "@jupyter-widgets/controls",
          "model_name": "HTMLModel",
          "model_module_version": "1.5.0",
          "state": {
            "_dom_classes": [],
            "_model_module": "@jupyter-widgets/controls",
            "_model_module_version": "1.5.0",
            "_model_name": "HTMLModel",
            "_view_count": null,
            "_view_module": "@jupyter-widgets/controls",
            "_view_module_version": "1.5.0",
            "_view_name": "HTMLView",
            "description": "",
            "description_tooltip": null,
            "layout": "IPY_MODEL_e73ec8d75bf6494fa92c4d16530f5693",
            "placeholder": "​",
            "style": "IPY_MODEL_66e6e49f08104db0bf64225676d1871c",
            "value": " 6.57k/6.57k [00:00&lt;00:00, 452kB/s]"
          }
        },
        "0c49b75e55fd4481bc6773723c48bdc5": {
          "model_module": "@jupyter-widgets/base",
          "model_name": "LayoutModel",
          "model_module_version": "1.2.0",
          "state": {
            "_model_module": "@jupyter-widgets/base",
            "_model_module_version": "1.2.0",
            "_model_name": "LayoutModel",
            "_view_count": null,
            "_view_module": "@jupyter-widgets/base",
            "_view_module_version": "1.2.0",
            "_view_name": "LayoutView",
            "align_content": null,
            "align_items": null,
            "align_self": null,
            "border": null,
            "bottom": null,
            "display": null,
            "flex": null,
            "flex_flow": null,
            "grid_area": null,
            "grid_auto_columns": null,
            "grid_auto_flow": null,
            "grid_auto_rows": null,
            "grid_column": null,
            "grid_gap": null,
            "grid_row": null,
            "grid_template_areas": null,
            "grid_template_columns": null,
            "grid_template_rows": null,
            "height": null,
            "justify_content": null,
            "justify_items": null,
            "left": null,
            "margin": null,
            "max_height": null,
            "max_width": null,
            "min_height": null,
            "min_width": null,
            "object_fit": null,
            "object_position": null,
            "order": null,
            "overflow": null,
            "overflow_x": null,
            "overflow_y": null,
            "padding": null,
            "right": null,
            "top": null,
            "visibility": null,
            "width": null
          }
        },
        "ef77ff9b7c4c4527b18788cfa4ef7a4b": {
          "model_module": "@jupyter-widgets/base",
          "model_name": "LayoutModel",
          "model_module_version": "1.2.0",
          "state": {
            "_model_module": "@jupyter-widgets/base",
            "_model_module_version": "1.2.0",
            "_model_name": "LayoutModel",
            "_view_count": null,
            "_view_module": "@jupyter-widgets/base",
            "_view_module_version": "1.2.0",
            "_view_name": "LayoutView",
            "align_content": null,
            "align_items": null,
            "align_self": null,
            "border": null,
            "bottom": null,
            "display": null,
            "flex": null,
            "flex_flow": null,
            "grid_area": null,
            "grid_auto_columns": null,
            "grid_auto_flow": null,
            "grid_auto_rows": null,
            "grid_column": null,
            "grid_gap": null,
            "grid_row": null,
            "grid_template_areas": null,
            "grid_template_columns": null,
            "grid_template_rows": null,
            "height": null,
            "justify_content": null,
            "justify_items": null,
            "left": null,
            "margin": null,
            "max_height": null,
            "max_width": null,
            "min_height": null,
            "min_width": null,
            "object_fit": null,
            "object_position": null,
            "order": null,
            "overflow": null,
            "overflow_x": null,
            "overflow_y": null,
            "padding": null,
            "right": null,
            "top": null,
            "visibility": null,
            "width": null
          }
        },
        "3a777554bfd5492b85fcde84ed12b190": {
          "model_module": "@jupyter-widgets/controls",
          "model_name": "DescriptionStyleModel",
          "model_module_version": "1.5.0",
          "state": {
            "_model_module": "@jupyter-widgets/controls",
            "_model_module_version": "1.5.0",
            "_model_name": "DescriptionStyleModel",
            "_view_count": null,
            "_view_module": "@jupyter-widgets/base",
            "_view_module_version": "1.2.0",
            "_view_name": "StyleView",
            "description_width": ""
          }
        },
        "5fd122385139404c862a84b6fef7b39e": {
          "model_module": "@jupyter-widgets/base",
          "model_name": "LayoutModel",
          "model_module_version": "1.2.0",
          "state": {
            "_model_module": "@jupyter-widgets/base",
            "_model_module_version": "1.2.0",
            "_model_name": "LayoutModel",
            "_view_count": null,
            "_view_module": "@jupyter-widgets/base",
            "_view_module_version": "1.2.0",
            "_view_name": "LayoutView",
            "align_content": null,
            "align_items": null,
            "align_self": null,
            "border": null,
            "bottom": null,
            "display": null,
            "flex": null,
            "flex_flow": null,
            "grid_area": null,
            "grid_auto_columns": null,
            "grid_auto_flow": null,
            "grid_auto_rows": null,
            "grid_column": null,
            "grid_gap": null,
            "grid_row": null,
            "grid_template_areas": null,
            "grid_template_columns": null,
            "grid_template_rows": null,
            "height": null,
            "justify_content": null,
            "justify_items": null,
            "left": null,
            "margin": null,
            "max_height": null,
            "max_width": null,
            "min_height": null,
            "min_width": null,
            "object_fit": null,
            "object_position": null,
            "order": null,
            "overflow": null,
            "overflow_x": null,
            "overflow_y": null,
            "padding": null,
            "right": null,
            "top": null,
            "visibility": null,
            "width": null
          }
        },
        "9fac9b9ea8ac4afa89256464422d9879": {
          "model_module": "@jupyter-widgets/controls",
          "model_name": "ProgressStyleModel",
          "model_module_version": "1.5.0",
          "state": {
            "_model_module": "@jupyter-widgets/controls",
            "_model_module_version": "1.5.0",
            "_model_name": "ProgressStyleModel",
            "_view_count": null,
            "_view_module": "@jupyter-widgets/base",
            "_view_module_version": "1.2.0",
            "_view_name": "StyleView",
            "bar_color": null,
            "description_width": ""
          }
        },
        "e73ec8d75bf6494fa92c4d16530f5693": {
          "model_module": "@jupyter-widgets/base",
          "model_name": "LayoutModel",
          "model_module_version": "1.2.0",
          "state": {
            "_model_module": "@jupyter-widgets/base",
            "_model_module_version": "1.2.0",
            "_model_name": "LayoutModel",
            "_view_count": null,
            "_view_module": "@jupyter-widgets/base",
            "_view_module_version": "1.2.0",
            "_view_name": "LayoutView",
            "align_content": null,
            "align_items": null,
            "align_self": null,
            "border": null,
            "bottom": null,
            "display": null,
            "flex": null,
            "flex_flow": null,
            "grid_area": null,
            "grid_auto_columns": null,
            "grid_auto_flow": null,
            "grid_auto_rows": null,
            "grid_column": null,
            "grid_gap": null,
            "grid_row": null,
            "grid_template_areas": null,
            "grid_template_columns": null,
            "grid_template_rows": null,
            "height": null,
            "justify_content": null,
            "justify_items": null,
            "left": null,
            "margin": null,
            "max_height": null,
            "max_width": null,
            "min_height": null,
            "min_width": null,
            "object_fit": null,
            "object_position": null,
            "order": null,
            "overflow": null,
            "overflow_x": null,
            "overflow_y": null,
            "padding": null,
            "right": null,
            "top": null,
            "visibility": null,
            "width": null
          }
        },
        "66e6e49f08104db0bf64225676d1871c": {
          "model_module": "@jupyter-widgets/controls",
          "model_name": "DescriptionStyleModel",
          "model_module_version": "1.5.0",
          "state": {
            "_model_module": "@jupyter-widgets/controls",
            "_model_module_version": "1.5.0",
            "_model_name": "DescriptionStyleModel",
            "_view_count": null,
            "_view_module": "@jupyter-widgets/base",
            "_view_module_version": "1.2.0",
            "_view_name": "StyleView",
            "description_width": ""
          }
        },
        "8702c7cb55424c8bba399bcb9363b8fb": {
          "model_module": "@jupyter-widgets/controls",
          "model_name": "HBoxModel",
          "model_module_version": "1.5.0",
          "state": {
            "_dom_classes": [],
            "_model_module": "@jupyter-widgets/controls",
            "_model_module_version": "1.5.0",
            "_model_name": "HBoxModel",
            "_view_count": null,
            "_view_module": "@jupyter-widgets/controls",
            "_view_module_version": "1.5.0",
            "_view_name": "HBoxView",
            "box_style": "",
            "children": [
              "IPY_MODEL_70479def69aa454b9af18ad98a1b84c6",
              "IPY_MODEL_ae27761b16644db8b488593c5833e303",
              "IPY_MODEL_2ec6dde9614845f4bb034bb7bf844b16"
            ],
            "layout": "IPY_MODEL_54db07ecda5a407da354594f0e11ad6d"
          }
        },
        "70479def69aa454b9af18ad98a1b84c6": {
          "model_module": "@jupyter-widgets/controls",
          "model_name": "HTMLModel",
          "model_module_version": "1.5.0",
          "state": {
            "_dom_classes": [],
            "_model_module": "@jupyter-widgets/controls",
            "_model_module_version": "1.5.0",
            "_model_name": "HTMLModel",
            "_view_count": null,
            "_view_module": "@jupyter-widgets/controls",
            "_view_module_version": "1.5.0",
            "_view_name": "HTMLView",
            "description": "",
            "description_tooltip": null,
            "layout": "IPY_MODEL_f129f78f8fff434499c89b1bce7b453e",
            "placeholder": "​",
            "style": "IPY_MODEL_dc2bb856323f41b2905e3054e5277835",
            "value": "model.safetensors: 100%"
          }
        },
        "ae27761b16644db8b488593c5833e303": {
          "model_module": "@jupyter-widgets/controls",
          "model_name": "FloatProgressModel",
          "model_module_version": "1.5.0",
          "state": {
            "_dom_classes": [],
            "_model_module": "@jupyter-widgets/controls",
            "_model_module_version": "1.5.0",
            "_model_name": "FloatProgressModel",
            "_view_count": null,
            "_view_module": "@jupyter-widgets/controls",
            "_view_module_version": "1.5.0",
            "_view_name": "ProgressView",
            "bar_style": "success",
            "description": "",
            "description_tooltip": null,
            "layout": "IPY_MODEL_a007b1531747463c914bce7484f01177",
            "max": 374979480,
            "min": 0,
            "orientation": "horizontal",
            "style": "IPY_MODEL_221873c194be46caa320d0cafce29fb9",
            "value": 374979480
          }
        },
        "2ec6dde9614845f4bb034bb7bf844b16": {
          "model_module": "@jupyter-widgets/controls",
          "model_name": "HTMLModel",
          "model_module_version": "1.5.0",
          "state": {
            "_dom_classes": [],
            "_model_module": "@jupyter-widgets/controls",
            "_model_module_version": "1.5.0",
            "_model_name": "HTMLModel",
            "_view_count": null,
            "_view_module": "@jupyter-widgets/controls",
            "_view_module_version": "1.5.0",
            "_view_name": "HTMLView",
            "description": "",
            "description_tooltip": null,
            "layout": "IPY_MODEL_1d1bc24552c6463fb90e84b3f45a097e",
            "placeholder": "​",
            "style": "IPY_MODEL_a34c259a0b2c46f9859a4e75e6118616",
            "value": " 375M/375M [00:01&lt;00:00, 252MB/s]"
          }
        },
        "54db07ecda5a407da354594f0e11ad6d": {
          "model_module": "@jupyter-widgets/base",
          "model_name": "LayoutModel",
          "model_module_version": "1.2.0",
          "state": {
            "_model_module": "@jupyter-widgets/base",
            "_model_module_version": "1.2.0",
            "_model_name": "LayoutModel",
            "_view_count": null,
            "_view_module": "@jupyter-widgets/base",
            "_view_module_version": "1.2.0",
            "_view_name": "LayoutView",
            "align_content": null,
            "align_items": null,
            "align_self": null,
            "border": null,
            "bottom": null,
            "display": null,
            "flex": null,
            "flex_flow": null,
            "grid_area": null,
            "grid_auto_columns": null,
            "grid_auto_flow": null,
            "grid_auto_rows": null,
            "grid_column": null,
            "grid_gap": null,
            "grid_row": null,
            "grid_template_areas": null,
            "grid_template_columns": null,
            "grid_template_rows": null,
            "height": null,
            "justify_content": null,
            "justify_items": null,
            "left": null,
            "margin": null,
            "max_height": null,
            "max_width": null,
            "min_height": null,
            "min_width": null,
            "object_fit": null,
            "object_position": null,
            "order": null,
            "overflow": null,
            "overflow_x": null,
            "overflow_y": null,
            "padding": null,
            "right": null,
            "top": null,
            "visibility": null,
            "width": null
          }
        },
        "f129f78f8fff434499c89b1bce7b453e": {
          "model_module": "@jupyter-widgets/base",
          "model_name": "LayoutModel",
          "model_module_version": "1.2.0",
          "state": {
            "_model_module": "@jupyter-widgets/base",
            "_model_module_version": "1.2.0",
            "_model_name": "LayoutModel",
            "_view_count": null,
            "_view_module": "@jupyter-widgets/base",
            "_view_module_version": "1.2.0",
            "_view_name": "LayoutView",
            "align_content": null,
            "align_items": null,
            "align_self": null,
            "border": null,
            "bottom": null,
            "display": null,
            "flex": null,
            "flex_flow": null,
            "grid_area": null,
            "grid_auto_columns": null,
            "grid_auto_flow": null,
            "grid_auto_rows": null,
            "grid_column": null,
            "grid_gap": null,
            "grid_row": null,
            "grid_template_areas": null,
            "grid_template_columns": null,
            "grid_template_rows": null,
            "height": null,
            "justify_content": null,
            "justify_items": null,
            "left": null,
            "margin": null,
            "max_height": null,
            "max_width": null,
            "min_height": null,
            "min_width": null,
            "object_fit": null,
            "object_position": null,
            "order": null,
            "overflow": null,
            "overflow_x": null,
            "overflow_y": null,
            "padding": null,
            "right": null,
            "top": null,
            "visibility": null,
            "width": null
          }
        },
        "dc2bb856323f41b2905e3054e5277835": {
          "model_module": "@jupyter-widgets/controls",
          "model_name": "DescriptionStyleModel",
          "model_module_version": "1.5.0",
          "state": {
            "_model_module": "@jupyter-widgets/controls",
            "_model_module_version": "1.5.0",
            "_model_name": "DescriptionStyleModel",
            "_view_count": null,
            "_view_module": "@jupyter-widgets/base",
            "_view_module_version": "1.2.0",
            "_view_name": "StyleView",
            "description_width": ""
          }
        },
        "a007b1531747463c914bce7484f01177": {
          "model_module": "@jupyter-widgets/base",
          "model_name": "LayoutModel",
          "model_module_version": "1.2.0",
          "state": {
            "_model_module": "@jupyter-widgets/base",
            "_model_module_version": "1.2.0",
            "_model_name": "LayoutModel",
            "_view_count": null,
            "_view_module": "@jupyter-widgets/base",
            "_view_module_version": "1.2.0",
            "_view_name": "LayoutView",
            "align_content": null,
            "align_items": null,
            "align_self": null,
            "border": null,
            "bottom": null,
            "display": null,
            "flex": null,
            "flex_flow": null,
            "grid_area": null,
            "grid_auto_columns": null,
            "grid_auto_flow": null,
            "grid_auto_rows": null,
            "grid_column": null,
            "grid_gap": null,
            "grid_row": null,
            "grid_template_areas": null,
            "grid_template_columns": null,
            "grid_template_rows": null,
            "height": null,
            "justify_content": null,
            "justify_items": null,
            "left": null,
            "margin": null,
            "max_height": null,
            "max_width": null,
            "min_height": null,
            "min_width": null,
            "object_fit": null,
            "object_position": null,
            "order": null,
            "overflow": null,
            "overflow_x": null,
            "overflow_y": null,
            "padding": null,
            "right": null,
            "top": null,
            "visibility": null,
            "width": null
          }
        },
        "221873c194be46caa320d0cafce29fb9": {
          "model_module": "@jupyter-widgets/controls",
          "model_name": "ProgressStyleModel",
          "model_module_version": "1.5.0",
          "state": {
            "_model_module": "@jupyter-widgets/controls",
            "_model_module_version": "1.5.0",
            "_model_name": "ProgressStyleModel",
            "_view_count": null,
            "_view_module": "@jupyter-widgets/base",
            "_view_module_version": "1.2.0",
            "_view_name": "StyleView",
            "bar_color": null,
            "description_width": ""
          }
        },
        "1d1bc24552c6463fb90e84b3f45a097e": {
          "model_module": "@jupyter-widgets/base",
          "model_name": "LayoutModel",
          "model_module_version": "1.2.0",
          "state": {
            "_model_module": "@jupyter-widgets/base",
            "_model_module_version": "1.2.0",
            "_model_name": "LayoutModel",
            "_view_count": null,
            "_view_module": "@jupyter-widgets/base",
            "_view_module_version": "1.2.0",
            "_view_name": "LayoutView",
            "align_content": null,
            "align_items": null,
            "align_self": null,
            "border": null,
            "bottom": null,
            "display": null,
            "flex": null,
            "flex_flow": null,
            "grid_area": null,
            "grid_auto_columns": null,
            "grid_auto_flow": null,
            "grid_auto_rows": null,
            "grid_column": null,
            "grid_gap": null,
            "grid_row": null,
            "grid_template_areas": null,
            "grid_template_columns": null,
            "grid_template_rows": null,
            "height": null,
            "justify_content": null,
            "justify_items": null,
            "left": null,
            "margin": null,
            "max_height": null,
            "max_width": null,
            "min_height": null,
            "min_width": null,
            "object_fit": null,
            "object_position": null,
            "order": null,
            "overflow": null,
            "overflow_x": null,
            "overflow_y": null,
            "padding": null,
            "right": null,
            "top": null,
            "visibility": null,
            "width": null
          }
        },
        "a34c259a0b2c46f9859a4e75e6118616": {
          "model_module": "@jupyter-widgets/controls",
          "model_name": "DescriptionStyleModel",
          "model_module_version": "1.5.0",
          "state": {
            "_model_module": "@jupyter-widgets/controls",
            "_model_module_version": "1.5.0",
            "_model_name": "DescriptionStyleModel",
            "_view_count": null,
            "_view_module": "@jupyter-widgets/base",
            "_view_module_version": "1.2.0",
            "_view_name": "StyleView",
            "description_width": ""
          }
        }
      }
    }
  },
  "nbformat": 4,
  "nbformat_minor": 0
}