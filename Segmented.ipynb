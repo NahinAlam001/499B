{
  "nbformat": 4,
  "nbformat_minor": 0,
  "metadata": {
    "colab": {
      "provenance": [],
      "gpuType": "T4",
      "authorship_tag": "ABX9TyMoE9N8RWtOtnR6w71WMxNL",
      "include_colab_link": true
    },
    "kernelspec": {
      "name": "python3",
      "display_name": "Python 3"
    },
    "language_info": {
      "name": "python"
    },
    "accelerator": "GPU"
  },
  "cells": [
    {
      "cell_type": "markdown",
      "metadata": {
        "id": "view-in-github",
        "colab_type": "text"
      },
      "source": [
        "<a href=\"https://colab.research.google.com/github/NahinAlam001/499B/blob/classification/Segmented.ipynb\" target=\"_parent\"><img src=\"https://colab.research.google.com/assets/colab-badge.svg\" alt=\"Open In Colab\"/></a>"
      ]
    },
    {
      "cell_type": "code",
      "source": [
        "import gdown\n",
        "import zipfile\n",
        "\n",
        "gdown.download('https://drive.google.com/uc?id=1JqEe1jdx5-wzDB_phKNvMIURPSpzWJGm', 'image.zip', quiet=False)\n",
        "with zipfile.ZipFile('image.zip', 'r') as zip_ref:\n",
        "  zip_ref.extractall()"
      ],
      "metadata": {
        "colab": {
          "base_uri": "https://localhost:8080/"
        },
        "id": "jLE0ZyVWHbjg",
        "outputId": "6fd66ecb-c638-4ecd-cc53-cb3557489bfe"
      },
      "execution_count": 4,
      "outputs": [
        {
          "output_type": "stream",
          "name": "stderr",
          "text": [
            "Downloading...\n",
            "From (original): https://drive.google.com/uc?id=1JqEe1jdx5-wzDB_phKNvMIURPSpzWJGm\n",
            "From (redirected): https://drive.google.com/uc?id=1JqEe1jdx5-wzDB_phKNvMIURPSpzWJGm&confirm=t&uuid=f67411fe-beba-4838-8a49-c429aac1b33a\n",
            "To: /content/image.zip\n",
            "100%|██████████| 149M/149M [00:00<00:00, 279MB/s]\n"
          ]
        }
      ]
    },
    {
      "cell_type": "code",
      "source": [
        "from pathlib import Path\n",
        "\n",
        "image_path = Path('images')"
      ],
      "metadata": {
        "id": "AYtKVX1MILSd"
      },
      "execution_count": 5,
      "outputs": []
    },
    {
      "cell_type": "code",
      "source": [
        "import os\n",
        "\n",
        "def walk_through_dir(dir_path):\n",
        "  for dirpath, dirnames, filenames in os.walk(dir_path):\n",
        "      print(f'There are {len(dirnames)} folders and {len(filenames)} files in {dirpath}')\n",
        "\n",
        "walk_through_dir(image_path)"
      ],
      "metadata": {
        "colab": {
          "base_uri": "https://localhost:8080/"
        },
        "id": "sm8b_JgkIjIj",
        "outputId": "06babbb2-1d58-4274-cee8-8cdbb3c5bfec"
      },
      "execution_count": 6,
      "outputs": [
        {
          "output_type": "stream",
          "name": "stdout",
          "text": [
            "There are 3 folders and 0 files in images\n",
            "There are 2 folders and 0 files in images/Atypical Nevus\n",
            "There are 0 folders and 80 files in images/Atypical Nevus/masks\n",
            "There are 0 folders and 80 files in images/Atypical Nevus/images\n",
            "There are 2 folders and 0 files in images/Common Nevus\n",
            "There are 0 folders and 80 files in images/Common Nevus/masks\n",
            "There are 0 folders and 80 files in images/Common Nevus/images\n",
            "There are 2 folders and 0 files in images/Melanoma\n",
            "There are 0 folders and 40 files in images/Melanoma/masks\n",
            "There are 0 folders and 40 files in images/Melanoma/images\n"
          ]
        }
      ]
    },
    {
      "cell_type": "code",
      "source": [
        "import random\n",
        "import torch\n",
        "import torch.nn as nn\n",
        "import torch.nn.functional as F\n",
        "import torchvision.datasets as datasets\n",
        "import torchvision.transforms as transforms\n",
        "from torch.utils.data import DataLoader, Dataset, random_split\n",
        "from pathlib import Path\n",
        "import numpy as np\n",
        "import matplotlib.pyplot as plt\n",
        "from sklearn.metrics import accuracy_score, precision_score, recall_score, f1_score"
      ],
      "metadata": {
        "id": "xYIzjVMqlHix"
      },
      "execution_count": 7,
      "outputs": []
    },
    {
      "cell_type": "code",
      "source": [
        "def ph2(dataset_dir, output_dir, class_names=(\"Melanoma\", \"Common Nevus\", \"Atypical Nevus\"),\n",
        "        image_ext='jpg', mask_ext='jpg', train_ratio=0.7, val_ratio=0.1, split_random=True, random_seed=None):\n",
        "\n",
        "    if random_seed is not None:\n",
        "        random.seed(random_seed)\n",
        "\n",
        "    if train_ratio + val_ratio > 1:\n",
        "        raise ValueError(\"train_ratio + val_ratio is too big.\")\n",
        "\n",
        "    dataset_dir = Path(dataset_dir) / \"images\"  # Assuming images are under 'images' folder\n",
        "    train_val_test_images = []\n",
        "    train_val_test_masks = []\n",
        "\n",
        "    for class_name in class_names:\n",
        "        class_dir = dataset_dir / class_name\n",
        "        for image_path in class_dir.iterdir():\n",
        "            if image_path.suffix.lower() == f\".{image_ext}\":\n",
        "                mask_path = class_dir.parent / \"masks\" / f\"{image_path.stem}_mask.{mask_ext}\"\n",
        "                train_val_test_images.append(image_path)\n",
        "                train_val_test_masks.append(mask_path)\n",
        "\n",
        "    train_val_test_data = list(zip(train_val_test_images, train_val_test_masks))\n",
        "\n",
        "    train_count = int(len(train_val_test_data) * train_ratio)\n",
        "    val_count = int(len(train_val_test_data) * val_ratio)\n",
        "\n",
        "    if split_random:\n",
        "        random.shuffle(train_val_test_data)\n",
        "\n",
        "    train_data = train_val_test_data[:train_count]\n",
        "    val_data = train_val_test_data[train_count:train_count + val_count]\n",
        "    test_data = train_val_test_data[train_count + val_count:]\n",
        "\n",
        "    __save_output(output_dir, train_data, val_data, test_data)\n",
        "\n",
        "def __save_output(output_dir, train_data, val_data, test_data):\n",
        "    output_dir = Path(output_dir)\n",
        "    output_dir.mkdir(parents=True, exist_ok=True)\n",
        "\n",
        "    def create_dir(data_type):\n",
        "        data_dir = output_dir / data_type\n",
        "        data_dir.mkdir(parents=True, exist_ok=True)\n",
        "        return data_dir\n",
        "\n",
        "    def write_data(data_type, data, data_dir):\n",
        "        if len(data) != 0:\n",
        "            fp_images = open(data_dir.joinpath(f\"{data_type}_images.txt\"), 'w')\n",
        "            fp_masks = open(data_dir.joinpath(f\"{data_type}_masks.txt\"), 'w')\n",
        "            for item in data:\n",
        "                fp_images.write(\"%s\\n\" % item[0])\n",
        "                fp_masks.write(\"%s\\n\" % item[1])\n",
        "            fp_images.close()\n",
        "            fp_masks.close()\n",
        "\n",
        "    train_dir = create_dir(\"train\")\n",
        "    val_dir = create_dir(\"val\")\n",
        "    test_dir = create_dir(\"test\")\n",
        "\n",
        "    write_data(\"train\", train_data, train_dir)\n",
        "    write_data(\"val\", val_data, val_dir)"
      ],
      "metadata": {
        "id": "LhRTBie8lIr5"
      },
      "execution_count": 8,
      "outputs": []
    },
    {
      "cell_type": "code",
      "source": [
        "def __save_output(output_dir, train_data, val_data, test_data):\n",
        "    output_dir = Path(output_dir)\n",
        "    output_dir.mkdir(parents=True, exist_ok=True)\n",
        "\n",
        "    def create_dir(data_type):\n",
        "        data_dir = output_dir / data_type\n",
        "        data_dir.mkdir(parents=True, exist_ok=True)\n",
        "        return data_dir\n",
        "\n",
        "    def write_data(data_type, data, data_dir):\n",
        "        if len(data) != 0:\n",
        "            fp_images = open(data_dir.joinpath(f\"{data_type}_images.txt\"), 'w')\n",
        "            fp_masks = open(data_dir.joinpath(f\"{data_type}_masks.txt\"), 'w')\n",
        "            for item in data:\n",
        "                fp_images.write(\"%s\\n\" % item[0])\n",
        "                fp_masks.write(\"%s\\n\" % item[1])\n",
        "            fp_images.close()\n",
        "            fp_masks.close()\n",
        "\n",
        "    train_dir = create_dir(\"train\")\n",
        "    val_dir = create_dir(\"val\")\n",
        "    test_dir = create_dir(\"test\")\n",
        "\n",
        "    write_data(\"train\", train_data, train_dir)\n",
        "    write_data(\"val\", val_data, val_dir)"
      ],
      "metadata": {
        "id": "9RIDUGfDlPNd"
      },
      "execution_count": 9,
      "outputs": []
    },
    {
      "cell_type": "code",
      "source": [
        "def get_data(data_dir, train=True):\n",
        "    \"\"\"Loads image and mask data from directories.\"\"\"\n",
        "    # Define transformations\n",
        "    image_transform = transforms.Compose([\n",
        "        transforms.Resize((577, 769)),  # Resize images to the same dimensions\n",
        "        transforms.ToTensor(),\n",
        "        transforms.Normalize((0.5, 0.5, 0.5), (0.5, 0.5, 0.5))\n",
        "    ])\n",
        "    mask_transform = transforms.Compose([\n",
        "        transforms.Resize((577, 769)),  # Resize masks to the same dimensions\n",
        "        transforms.ToTensor()\n",
        "    ])\n",
        "\n",
        "    classes = ['Melanoma', 'Common Nevus', 'Atypical Nevus']\n",
        "    image_datasets = {x: datasets.ImageFolder(root='images' + \"/\" + x, transform=image_transform) for x in classes}\n",
        "    mask_datasets = {x: datasets.ImageFolder(root='images' + \"/\" + x, transform=mask_transform) for x in classes}\n",
        "\n",
        "    # Concatenate datasets for each class\n",
        "    image_data = torch.utils.data.ConcatDataset([image_datasets[x] for x in classes])\n",
        "    mask_data = torch.utils.data.ConcatDataset([mask_datasets[x] for x in classes])\n",
        "\n",
        "    # Combine image and mask datasets\n",
        "    dataset = [(image_data[i][0], mask_data[i][0].squeeze(), image_data[i][1]) for i in range(len(image_data))]\n",
        "\n",
        "    if train:\n",
        "        dataset = dataset[:int(0.7*len(dataset))]  # Considering only the training part\n",
        "\n",
        "    return dataset"
      ],
      "metadata": {
        "id": "Cawv2iHrlV10"
      },
      "execution_count": 10,
      "outputs": []
    },
    {
      "cell_type": "code",
      "source": [
        "class CNNModel_Seg(nn.Module):\n",
        "    def __init__(self, num_classes):\n",
        "        super(CNNModel_Seg, self).__init__()\n",
        "        # Change the number of input channels to 6 (3 for image, 3 for mask)\n",
        "        self.conv1 = nn.Conv2d(6, 16, kernel_size=3, padding=1)\n",
        "        self.bn1 = nn.BatchNorm2d(16)\n",
        "        self.pool1 = nn.MaxPool2d(2, 2)\n",
        "        self.conv2 = nn.Conv2d(16, 32, kernel_size=3, padding=1)\n",
        "        self.bn2 = nn.BatchNorm2d(32)\n",
        "        self.pool2 = nn.MaxPool2d(2, 2)\n",
        "        self.conv3 = nn.Conv2d(32, 64, kernel_size=3, padding=1)\n",
        "        self.bn3 = nn.BatchNorm2d(64)\n",
        "        self.pool3 = nn.MaxPool2d(2, 2)\n",
        "        # Upsampling layers to upsample back to original image size\n",
        "        self.upconv1 = nn.ConvTranspose2d(64, 32, kernel_size=2, stride=2)\n",
        "        self.upconv2 = nn.ConvTranspose2d(32, 16, kernel_size=2, stride=2)\n",
        "        self.upconv3 = nn.ConvTranspose2d(16, num_classes, kernel_size=2, stride=2)\n",
        "\n",
        "    def forward(self, x):\n",
        "        x = self.pool1(F.relu(self.bn1(self.conv1(x))))\n",
        "        x = self.pool2(F.relu(self.bn2(self.conv2(x))))\n",
        "        x = self.pool3(F.relu(self.bn3(self.conv3(x))))\n",
        "        x = F.relu(self.upconv1(x))\n",
        "        x = F.relu(self.upconv2(x))\n",
        "        x = self.upconv3(x)\n",
        "        return x.squeeze(1)"
      ],
      "metadata": {
        "id": "0te27c4olXKU"
      },
      "execution_count": 11,
      "outputs": []
    },
    {
      "cell_type": "code",
      "source": [
        "def train_model(model, train_data, val_data, optimizer, criterion, num_epochs, device):\n",
        "    \"\"\"Trains the CNN model with defined optimizer, criterion, and epochs.\"\"\"\n",
        "    train_loader = DataLoader(train_data, batch_size=32, shuffle=True)\n",
        "    val_loader = DataLoader(val_data, batch_size=32, shuffle=False)\n",
        "\n",
        "    for epoch in range(num_epochs):\n",
        "        model.train()\n",
        "        running_loss = 0.0\n",
        "        for images, masks, labels in train_loader:\n",
        "            images, masks, labels = images.to(device), masks.to(device), labels.to(device)\n",
        "            optimizer.zero_grad()\n",
        "            outputs = model(torch.cat((images, masks), dim=1))\n",
        "\n",
        "            # Ensure the output tensor has the same spatial dimensions as the masks\n",
        "            outputs = F.interpolate(outputs, size=masks.shape[2:], mode='bilinear', align_corners=True)\n",
        "\n",
        "            loss = criterion(outputs, masks)\n",
        "            loss.backward()\n",
        "            optimizer.step()\n",
        "            running_loss += loss.item()\n",
        "\n",
        "        model.eval()\n",
        "        eval_loss = 0.0\n",
        "        with torch.no_grad():\n",
        "            for images, masks, labels in val_loader:\n",
        "                images, masks, labels = images.to(device), masks.to(device), labels.to(device)\n",
        "                outputs = model(torch.cat((images, masks), dim=1))\n",
        "\n",
        "                # Ensure the output tensor has the same spatial dimensions as the masks\n",
        "                outputs = F.interpolate(outputs, size=masks.shape[2:], mode='bilinear', align_corners=True)\n",
        "\n",
        "                eval_loss += criterion(outputs, masks).item()\n",
        "\n",
        "        epoch_loss = running_loss / len(train_loader)\n",
        "        eval_loss = eval_loss / len(val_loader)\n",
        "        print(f\"Epoch {epoch + 1}/{num_epochs} - Train Loss: {epoch_loss:.4f} - Val Loss: {eval_loss:.4f}\")"
      ],
      "metadata": {
        "id": "uxKs4P6DlgLA"
      },
      "execution_count": 12,
      "outputs": []
    },
    {
      "cell_type": "code",
      "source": [
        "full_dataset = get_data(\"images\")\n",
        "# Device selection\n",
        "device = torch.device(\"cuda\" if torch.cuda.is_available() else \"cpu\")\n",
        "\n",
        "# Determine the lengths of the splits\n",
        "total_size = len(full_dataset)\n",
        "train_size = int(0.7 * total_size)  # 70% for training\n",
        "valid_size = int(0.15 * total_size)  # 15% for validation\n",
        "test_size = total_size - train_size - valid_size  # 15% for testing\n",
        "\n",
        "# Create the splits\n",
        "train_data, valid_data, test_data = random_split(full_dataset, [train_size, valid_size, test_size])\n",
        "\n",
        "num_classes = 3\n",
        "\n",
        "model = CNNModel_Seg(num_classes).to(device)\n",
        "optimizer = torch.optim.Adam(model.parameters())\n",
        "criterion = nn.CrossEntropyLoss()\n",
        "\n",
        "train_model(model, train_data, valid_data, optimizer, criterion, 10, device)"
      ],
      "metadata": {
        "colab": {
          "base_uri": "https://localhost:8080/"
        },
        "id": "lNzyn8XtcvEl",
        "outputId": "0c69529a-0e0f-4861-a3a5-aeedcb19c5d3"
      },
      "execution_count": 13,
      "outputs": [
        {
          "output_type": "stream",
          "name": "stdout",
          "text": [
            "Epoch 1/10 - Train Loss: 1.9958 - Val Loss: 2.0602\n",
            "Epoch 2/10 - Train Loss: 1.9853 - Val Loss: 2.0522\n",
            "Epoch 3/10 - Train Loss: 1.9641 - Val Loss: 2.0395\n",
            "Epoch 4/10 - Train Loss: 1.9626 - Val Loss: 2.0275\n",
            "Epoch 5/10 - Train Loss: 1.9619 - Val Loss: 2.0180\n",
            "Epoch 6/10 - Train Loss: 1.9596 - Val Loss: 2.0161\n",
            "Epoch 7/10 - Train Loss: 1.9649 - Val Loss: 2.0139\n",
            "Epoch 8/10 - Train Loss: 1.9453 - Val Loss: 2.0125\n",
            "Epoch 9/10 - Train Loss: 1.9322 - Val Loss: 2.0114\n",
            "Epoch 10/10 - Train Loss: 1.9075 - Val Loss: 2.0105\n"
          ]
        }
      ]
    },
    {
      "cell_type": "code",
      "source": [
        "def evaluate_model(model, test_data, device):\n",
        "    test_loader = DataLoader(test_data, batch_size=32, shuffle=False)\n",
        "    model.eval()\n",
        "    with torch.no_grad():\n",
        "        y_pred = []  # List to store predicted class labels\n",
        "        y_true = []  # List to store ground truth class labels\n",
        "        for images, masks, labels in test_loader:\n",
        "            images, masks = images.to(device), masks.to(device)\n",
        "            outputs = model(torch.cat((images, masks), dim=1))\n",
        "\n",
        "            # Process outputs for evaluation (assuming your model outputs probabilities)\n",
        "            predicted_classes = torch.argmax(outputs, dim=1).cpu().numpy().flatten()\n",
        "            y_pred.extend(predicted_classes)\n",
        "            y_true.extend(masks.cpu().numpy().flatten())\n",
        "\n",
        "    # Calculate evaluation metrics\n",
        "    precision = precision_score(y_true, y_pred, average='weighted')\n",
        "    recall = recall_score(y_true, y_pred, average='weighted')\n",
        "    f1 = f1_score(y_true, y_pred, average='weighted')\n",
        "    print(f\"Test Precision: {precision:.4f}, Recall: {recall:.4f}, F1-Score: {f1:.4f}\")"
      ],
      "metadata": {
        "id": "Imy47PGXzI-e"
      },
      "execution_count": 14,
      "outputs": []
    },
    {
      "cell_type": "code",
      "source": [
        "# Save the model (optional, but recommended)\n",
        "# torch.save(model.state_dict(), 'clssification.pt')  # Replace with your desired save path\n",
        "# Evaluate the model on the test set\n",
        "evaluate_model(model, test_data, device)"
      ],
      "metadata": {
        "id": "T_MHilN2y3cQ"
      },
      "execution_count": null,
      "outputs": []
    }
  ]
}